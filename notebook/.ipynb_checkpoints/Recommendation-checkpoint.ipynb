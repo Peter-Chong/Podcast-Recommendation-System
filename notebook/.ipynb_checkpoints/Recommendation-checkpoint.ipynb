{
 "cells": [
  {
   "cell_type": "code",
   "execution_count": 1,
   "metadata": {},
   "outputs": [],
   "source": [
    "import re\n",
    "import nltk\n",
    "import pandas as pd\n",
    "from nltk.stem import WordNetLemmatizer"
   ]
  },
  {
   "cell_type": "markdown",
   "metadata": {},
   "source": [
    "# Dataframe"
   ]
  },
  {
   "cell_type": "code",
   "execution_count": 2,
   "metadata": {},
   "outputs": [],
   "source": [
    "df = pd.read_pickle('../data/pickle/podcasts_clean.pkl')"
   ]
  },
  {
   "cell_type": "code",
   "execution_count": 3,
   "metadata": {},
   "outputs": [],
   "source": [
    "df['text'] = df[['title', 'producer', 'genre', 'description', 'episodes', 'reviews']].agg(' '.join, axis=1)"
   ]
  },
  {
   "cell_type": "code",
   "execution_count": 4,
   "metadata": {},
   "outputs": [],
   "source": [
    "df.drop(columns=['producer', 'rating', 'num_ratings', 'num_episodes', 'description',\n",
    "                 'link', 'episodes', 'reviews'], inplace=True)"
   ]
  },
  {
   "cell_type": "code",
   "execution_count": 5,
   "metadata": {},
   "outputs": [],
   "source": [
    "df['subs_len'] = df.apply(lambda row: len(row.subs), axis=1)"
   ]
  },
  {
   "cell_type": "code",
   "execution_count": 6,
   "metadata": {},
   "outputs": [
    {
     "data": {
      "text/html": [
       "<div>\n",
       "<style scoped>\n",
       "    .dataframe tbody tr th:only-of-type {\n",
       "        vertical-align: middle;\n",
       "    }\n",
       "\n",
       "    .dataframe tbody tr th {\n",
       "        vertical-align: top;\n",
       "    }\n",
       "\n",
       "    .dataframe thead th {\n",
       "        text-align: right;\n",
       "    }\n",
       "</style>\n",
       "<table border=\"1\" class=\"dataframe\">\n",
       "  <thead>\n",
       "    <tr style=\"text-align: right;\">\n",
       "      <th></th>\n",
       "      <th>title</th>\n",
       "      <th>genre</th>\n",
       "      <th>subs</th>\n",
       "      <th>text</th>\n",
       "      <th>subs_len</th>\n",
       "    </tr>\n",
       "  </thead>\n",
       "  <tbody>\n",
       "    <tr>\n",
       "      <th>0</th>\n",
       "      <td>Green Eggs and Dan</td>\n",
       "      <td>Arts</td>\n",
       "      <td>[Point of Origin, Cal's Week in Review]</td>\n",
       "      <td>Green Eggs and Dan The Podglomerate Arts Takin...</td>\n",
       "      <td>2</td>\n",
       "    </tr>\n",
       "    <tr>\n",
       "      <th>1</th>\n",
       "      <td>Audio Poem of the Day</td>\n",
       "      <td>Arts</td>\n",
       "      <td>[The New Yorker: Poetry, The New Yorker: The W...</td>\n",
       "      <td>Audio Poem of the Day Poetry Foundation Arts A...</td>\n",
       "      <td>5</td>\n",
       "    </tr>\n",
       "  </tbody>\n",
       "</table>\n",
       "</div>"
      ],
      "text/plain": [
       "                   title genre  \\\n",
       "0     Green Eggs and Dan  Arts   \n",
       "1  Audio Poem of the Day  Arts   \n",
       "\n",
       "                                                subs  \\\n",
       "0            [Point of Origin, Cal's Week in Review]   \n",
       "1  [The New Yorker: Poetry, The New Yorker: The W...   \n",
       "\n",
       "                                                text  subs_len  \n",
       "0  Green Eggs and Dan The Podglomerate Arts Takin...         2  \n",
       "1  Audio Poem of the Day Poetry Foundation Arts A...         5  "
      ]
     },
     "execution_count": 6,
     "metadata": {},
     "output_type": "execute_result"
    }
   ],
   "source": [
    "df.head(2)"
   ]
  },
  {
   "cell_type": "code",
   "execution_count": 7,
   "metadata": {},
   "outputs": [
    {
     "data": {
      "text/plain": [
       "(4460, 5)"
      ]
     },
     "execution_count": 7,
     "metadata": {},
     "output_type": "execute_result"
    }
   ],
   "source": [
    "df.shape"
   ]
  },
  {
   "cell_type": "code",
   "execution_count": 8,
   "metadata": {},
   "outputs": [],
   "source": [
    "titleswsubs = list(df[df.subs_len != 0].title)"
   ]
  },
  {
   "cell_type": "code",
   "execution_count": 9,
   "metadata": {},
   "outputs": [],
   "source": [
    "subsset = set()\n",
    "for i in df.subs:\n",
    "    for j in i:\n",
    "        subsset.add(j)"
   ]
  },
  {
   "cell_type": "markdown",
   "metadata": {},
   "source": [
    "# Preprocessing"
   ]
  },
  {
   "cell_type": "code",
   "execution_count": 10,
   "metadata": {},
   "outputs": [],
   "source": [
    "stopwords = set(nltk.corpus.stopwords.words('english'))\n",
    "add_stops = ['monday', 'tuesday', 'wednesday', 'thursday', 'friday', 'saturday', 'sunday',\n",
    "             'january', 'february', 'march', 'april', 'may', 'june', 'im', 'ive',\n",
    "             'july', 'august', 'september', 'october', 'november', 'december',\n",
    "             'nan', 'podcast', 'podcasts', 'every', 'new', 'weekly', 'week', \n",
    "             'stories', 'story', 'episode', 'episodes', 'listen', 'us', \"'s\", 'host', 'hosted', 'join']\n",
    "for i in add_stops:\n",
    "    stopwords.add(i)"
   ]
  },
  {
   "cell_type": "code",
   "execution_count": 11,
   "metadata": {},
   "outputs": [],
   "source": [
    "lemmatizer = WordNetLemmatizer()\n",
    "def preprocess_text(text):\n",
    "    text = text.lower()\n",
    "    text = re.sub(r'[^\\s\\w]+', '', text)\n",
    "    text = re.sub(r\"\\S+\\.org\\S+\", \"\", text)\n",
    "    text = re.sub(r\"\\S+\\.net\\S+\", \"\", text)\n",
    "    text = re.sub(r\"\\S+\\.edu\\S+\", \"\", text)\n",
    "    text = re.sub(r\"\\S+\\.gov\\S+\", \"\", text)\n",
    "    tokenized_text = nltk.word_tokenize(text)\n",
    "    new_tokenized = []\n",
    "    for i in tokenized_text:\n",
    "        if i not in stopwords and len(i) != 1:\n",
    "            new_tokenized.append(lemmatizer.lemmatize(i))\n",
    "    return(' '.join(new_tokenized))"
   ]
  },
  {
   "cell_type": "code",
   "execution_count": 12,
   "metadata": {},
   "outputs": [],
   "source": [
    "df.text = df.text.map(preprocess_text)"
   ]
  },
  {
   "cell_type": "code",
   "execution_count": 13,
   "metadata": {},
   "outputs": [
    {
     "data": {
      "text/html": [
       "<div>\n",
       "<style scoped>\n",
       "    .dataframe tbody tr th:only-of-type {\n",
       "        vertical-align: middle;\n",
       "    }\n",
       "\n",
       "    .dataframe tbody tr th {\n",
       "        vertical-align: top;\n",
       "    }\n",
       "\n",
       "    .dataframe thead th {\n",
       "        text-align: right;\n",
       "    }\n",
       "</style>\n",
       "<table border=\"1\" class=\"dataframe\">\n",
       "  <thead>\n",
       "    <tr style=\"text-align: right;\">\n",
       "      <th></th>\n",
       "      <th>title</th>\n",
       "      <th>genre</th>\n",
       "      <th>subs</th>\n",
       "      <th>text</th>\n",
       "      <th>subs_len</th>\n",
       "    </tr>\n",
       "  </thead>\n",
       "  <tbody>\n",
       "    <tr>\n",
       "      <th>0</th>\n",
       "      <td>Green Eggs and Dan</td>\n",
       "      <td>Arts</td>\n",
       "      <td>[Point of Origin, Cal's Week in Review]</td>\n",
       "      <td>green egg dan podglomerate art taking look eat...</td>\n",
       "      <td>2</td>\n",
       "    </tr>\n",
       "    <tr>\n",
       "      <th>1</th>\n",
       "      <td>Audio Poem of the Day</td>\n",
       "      <td>Arts</td>\n",
       "      <td>[The New Yorker: Poetry, The New Yorker: The W...</td>\n",
       "      <td>audio poem day poetry foundation art audio rec...</td>\n",
       "      <td>5</td>\n",
       "    </tr>\n",
       "  </tbody>\n",
       "</table>\n",
       "</div>"
      ],
      "text/plain": [
       "                   title genre  \\\n",
       "0     Green Eggs and Dan  Arts   \n",
       "1  Audio Poem of the Day  Arts   \n",
       "\n",
       "                                                subs  \\\n",
       "0            [Point of Origin, Cal's Week in Review]   \n",
       "1  [The New Yorker: Poetry, The New Yorker: The W...   \n",
       "\n",
       "                                                text  subs_len  \n",
       "0  green egg dan podglomerate art taking look eat...         2  \n",
       "1  audio poem day poetry foundation art audio rec...         5  "
      ]
     },
     "execution_count": 13,
     "metadata": {},
     "output_type": "execute_result"
    }
   ],
   "source": [
    "df.head(2)"
   ]
  },
  {
   "cell_type": "markdown",
   "metadata": {},
   "source": [
    "# Modelling"
   ]
  },
  {
   "cell_type": "code",
   "execution_count": 32,
   "metadata": {},
   "outputs": [],
   "source": [
    "tests = list(df[df.subs_len >= 5].sample(3).title)"
   ]
  },
  {
   "cell_type": "code",
   "execution_count": 21,
   "metadata": {},
   "outputs": [],
   "source": [
    "def get_recommendations(matrix):\n",
    "    for i in tests:\n",
    "        print('\\033[1m' + \"Given:\" + '\\033[0m', i)\n",
    "        index = df.loc[df.title == i].index[0]\n",
    "        print('\\033[1m' + \"Given genre:\" + '\\033[0m', df.iloc[index]['genre'])\n",
    "        array = list(enumerate(matrix[index]))\n",
    "        sorted_array = sorted(array, key=lambda x:x[1], reverse=True)\n",
    "        recs = []\n",
    "        genres = []\n",
    "        for j in sorted_array:\n",
    "            rec_title = df.iloc[j[0]]['title']\n",
    "            rec_genre = df.iloc[j[0]]['genre']\n",
    "            if rec_title == i or rec_title not in subsset:\n",
    "                continue\n",
    "            recs.append(rec_title)\n",
    "            genres.append(rec_genre)\n",
    "            if len(recs) == 5:\n",
    "                break\n",
    "        print('\\033[1m' + \"Top 5 recommendations:\" + '\\033[0m')\n",
    "        print(recs)\n",
    "        print('\\033[1m' + \"Top 5 recommendations' genre:\" + '\\033[0m')\n",
    "        print(genres)\n",
    "        print('\\033[1m' + \"Subscribers also subscribes to according to Apple Podcasts:\" + '\\033[0m')\n",
    "        for k in df.loc[df.title == i].subs:\n",
    "            substo = k\n",
    "        print(substo)\n",
    "        correct  = 0\n",
    "        for l in recs:\n",
    "            correct = correct + 1 if l in substo else correct\n",
    "        print('\\033[1m', correct , \"out of 5 are accurate\" + '\\033[0m'+ \"\\n\")"
   ]
  },
  {
   "cell_type": "code",
   "execution_count": 16,
   "metadata": {},
   "outputs": [],
   "source": [
    "def accuracy(matrix):\n",
    "    num_titles = len(titleswsubs)\n",
    "    acc = 0\n",
    "    for i in titleswsubs:\n",
    "        index = df.loc[df.title == i].index[0]\n",
    "        array = list(enumerate(matrix[index]))\n",
    "        sorted_array = sorted(array, key=lambda x:x[1], reverse=True)\n",
    "        recs = []\n",
    "        for j in sorted_array:\n",
    "            rec_title = df.iloc[j[0]]['title']\n",
    "            if rec_title == i or rec_title not in subsset:\n",
    "                continue\n",
    "            recs.append(rec_title)\n",
    "            if len(recs) == 5:\n",
    "                break\n",
    "        for k in df.loc[df.title == i].subs:\n",
    "            substo = k\n",
    "        correct = 0\n",
    "        for l in recs:\n",
    "            correct = correct + 1 if l in substo else correct\n",
    "        if correct >= len(substo)//2 or correct == 5:\n",
    "            acc += 1\n",
    "    return round(acc/num_titles,5)"
   ]
  },
  {
   "cell_type": "markdown",
   "metadata": {},
   "source": [
    "## CountVectorizer (Bag-of-words) + Cosine Similarity"
   ]
  },
  {
   "cell_type": "code",
   "execution_count": 17,
   "metadata": {},
   "outputs": [],
   "source": [
    "from collections import Counter\n",
    "from scipy.sparse import csr_matrix\n",
    "from sklearn.metrics.pairwise import cosine_similarity"
   ]
  },
  {
   "cell_type": "code",
   "execution_count": 18,
   "metadata": {},
   "outputs": [],
   "source": [
    "def CountVectorizer(corpus):\n",
    "    bigset = set()\n",
    "    for sent in corpus:\n",
    "        for word in sent.split():\n",
    "            bigset.add(word)\n",
    "    vocab = {}\n",
    "    for index, word in enumerate(sorted(list(bigset))):\n",
    "        vocab[word] = index\n",
    "    row, col, val = [],[],[]\n",
    "    for idx, sentence in enumerate(corpus):\n",
    "        count_word = dict(Counter(sentence.split()))\n",
    "        for word, count in count_word.items():\n",
    "            col_index = vocab.get(word)\n",
    "            if col_index >= 0:\n",
    "                row.append(idx)\n",
    "                col.append(col_index)\n",
    "                val.append(count)\n",
    "    return csr_matrix((val, (row, col)), shape=(len(corpus), len(vocab)))"
   ]
  },
  {
   "cell_type": "code",
   "execution_count": 19,
   "metadata": {},
   "outputs": [],
   "source": [
    "bow_matrix = CountVectorizer(df.text)\n",
    "bow_cos_sim = cosine_similarity(bow_matrix)"
   ]
  },
  {
   "cell_type": "code",
   "execution_count": 33,
   "metadata": {
    "scrolled": false
   },
   "outputs": [
    {
     "name": "stdout",
     "output_type": "stream",
     "text": [
      "\u001b[1mGiven:\u001b[0m Less Is Morgue\n",
      "\u001b[1mGiven genre:\u001b[0m Fiction\n",
      "\u001b[1mTop 5 recommendations:\u001b[0m\n",
      "['Archive 81', 'Morbid: A True Crime Podcast', 'hanging out with audiophiles', 'The Popcast With Knox and Jamie', 'The Friend Zone']\n",
      "\u001b[1mTop 5 recommendations' genre:\u001b[0m\n",
      "['Fiction', 'Comedy', 'Music', 'TV & Film', 'Comedy']\n",
      "\u001b[1mSubscribers also subscribes to according to Apple Podcasts:\u001b[0m\n",
      "['Thirteen', 'The Call of the Void', 'A Voice From Darkness', 'Crypto-Z', 'The Storage Papers', 'Cryptids', 'Shadows at the Door: The Podcast', 'The Grey Rooms', 'How i Died']\n",
      "\u001b[1m 0 out of 5 are accurate\u001b[0m\n",
      "\n",
      "\u001b[1mGiven:\u001b[0m What If World - Stories for Kids\n",
      "\u001b[1mGiven genre:\u001b[0m Kids & Family\n",
      "\u001b[1mTop 5 recommendations:\u001b[0m\n",
      "['Brains On! Science podcast for kids', 'Imaginary Worlds', 'But Why: A Podcast for Curious Kids', 'A Bit of Optimism', 'The Imagine Neighborhood']\n",
      "\u001b[1mTop 5 recommendations' genre:\u001b[0m\n",
      "['Kids & Family', 'Arts', 'Kids & Family', 'Society & Culture', 'Kids & Family']\n",
      "\u001b[1mSubscribers also subscribes to according to Apple Podcasts:\u001b[0m\n",
      "['The Alien Adventures of Finn Caspian: Science Fiction for Kids', 'But Why: A Podcast for Curious Kids', 'Tumble Science Podcast for Kids', 'Story Time', 'Story Pirates', 'Stories Podcast: A Bedtime Show for Kids of All Ages', 'Brains On! Science podcast for kids', 'Circle Round', 'The Unexplainable Disappearance of Mars Patel', 'Storynory - Audio Stories For Kids', 'Wow in the World', 'Little Stories for Tiny People: Anytime and bedtime stories for kids', 'Good Night Stories for Rebel Girls', 'Six Minutes', 'Peace Out Podcast']\n",
      "\u001b[1m 2 out of 5 are accurate\u001b[0m\n",
      "\n",
      "\u001b[1mGiven:\u001b[0m Politics War Room with James Carville & Al Hunt\n",
      "\u001b[1mGiven genre:\u001b[0m News\n",
      "\u001b[1mTop 5 recommendations:\u001b[0m\n",
      "['Hide and Seek', 'Campaign: Skyjacks', 'Sara Carter Show', 'The James Altucher Show', 'Dead Meat Podcast']\n",
      "\u001b[1mTop 5 recommendations' genre:\u001b[0m\n",
      "['True Crime', 'Leisure', 'News', 'Education', 'TV & Film']\n",
      "\u001b[1mSubscribers also subscribes to according to Apple Podcasts:\u001b[0m\n",
      "['Politicology', 'The New Abnormal', 'The Bulwark Podcast', 'Hacks On Tap', 'Talking Feds', 'In the Bubble with Andy Slavitt: Our Shot']\n",
      "\u001b[1m 0 out of 5 are accurate\u001b[0m\n",
      "\n"
     ]
    }
   ],
   "source": [
    "get_recommendations(bow_cos_sim)"
   ]
  },
  {
   "cell_type": "code",
   "execution_count": 25,
   "metadata": {},
   "outputs": [
    {
     "data": {
      "text/plain": [
       "0.25653"
      ]
     },
     "execution_count": 25,
     "metadata": {},
     "output_type": "execute_result"
    }
   ],
   "source": [
    "accuracy(bow_cos_sim)"
   ]
  },
  {
   "cell_type": "markdown",
   "metadata": {},
   "source": [
    "## TF-IDF + Cosine Similarity"
   ]
  },
  {
   "cell_type": "code",
   "execution_count": 34,
   "metadata": {},
   "outputs": [],
   "source": [
    "from sklearn.feature_extraction.text import TfidfVectorizer\n",
    "\n",
    "tf = TfidfVectorizer()\n",
    "tf_idf_matrix = tf.fit_transform(df[\"text\"])\n",
    "tf_idf_cos_sim = cosine_similarity(tf_idf_matrix)"
   ]
  },
  {
   "cell_type": "code",
   "execution_count": 36,
   "metadata": {},
   "outputs": [
    {
     "name": "stdout",
     "output_type": "stream",
     "text": [
      "\u001b[1mGiven:\u001b[0m Less Is Morgue\n",
      "\u001b[1mGiven genre:\u001b[0m Fiction\n",
      "\u001b[1mTop 5 recommendations:\u001b[0m\n",
      "['The Phenomenon', 'Archive 81', 'This Is Actually Happening', 'Shadows at the Door: The Podcast', 'CARAVAN']\n",
      "\u001b[1mTop 5 recommendations' genre:\u001b[0m\n",
      "['Fiction', 'Fiction', 'True Crime', 'Fiction', 'Fiction']\n",
      "\u001b[1mSubscribers also subscribes to according to Apple Podcasts:\u001b[0m\n",
      "['Thirteen', 'The Call of the Void', 'A Voice From Darkness', 'Crypto-Z', 'The Storage Papers', 'Cryptids', 'Shadows at the Door: The Podcast', 'The Grey Rooms', 'How i Died']\n",
      "\u001b[1m 1 out of 5 are accurate\u001b[0m\n",
      "\n",
      "\u001b[1mGiven:\u001b[0m What If World - Stories for Kids\n",
      "\u001b[1mGiven genre:\u001b[0m Kids & Family\n",
      "\u001b[1mTop 5 recommendations:\u001b[0m\n",
      "['Tea Time UNFILTERED With Lovelyti', 'The Eric Metaxas Show', 'Monsters Among Us Podcast', 'Bizarre Albums', 'Bobbycast']\n",
      "\u001b[1mTop 5 recommendations' genre:\u001b[0m\n",
      "['News', 'News', 'Society & Culture', 'Music', 'Music']\n",
      "\u001b[1mSubscribers also subscribes to according to Apple Podcasts:\u001b[0m\n",
      "['The Alien Adventures of Finn Caspian: Science Fiction for Kids', 'But Why: A Podcast for Curious Kids', 'Tumble Science Podcast for Kids', 'Story Time', 'Story Pirates', 'Stories Podcast: A Bedtime Show for Kids of All Ages', 'Brains On! Science podcast for kids', 'Circle Round', 'The Unexplainable Disappearance of Mars Patel', 'Storynory - Audio Stories For Kids', 'Wow in the World', 'Little Stories for Tiny People: Anytime and bedtime stories for kids', 'Good Night Stories for Rebel Girls', 'Six Minutes', 'Peace Out Podcast']\n",
      "\u001b[1m 0 out of 5 are accurate\u001b[0m\n",
      "\n",
      "\u001b[1mGiven:\u001b[0m Politics War Room with James Carville & Al Hunt\n",
      "\u001b[1mGiven genre:\u001b[0m News\n",
      "\u001b[1mTop 5 recommendations:\u001b[0m\n",
      "['Hide and Seek', 'The Al Franken Podcast', 'Dead Meat Podcast', 'The James Altucher Show', 'Unashamed with Phil & Jase Robertson']\n",
      "\u001b[1mTop 5 recommendations' genre:\u001b[0m\n",
      "['True Crime', 'News', 'TV & Film', 'Education', 'Religion & Spirituality']\n",
      "\u001b[1mSubscribers also subscribes to according to Apple Podcasts:\u001b[0m\n",
      "['Politicology', 'The New Abnormal', 'The Bulwark Podcast', 'Hacks On Tap', 'Talking Feds', 'In the Bubble with Andy Slavitt: Our Shot']\n",
      "\u001b[1m 0 out of 5 are accurate\u001b[0m\n",
      "\n"
     ]
    }
   ],
   "source": [
    "get_recommendations(tf_idf_cos_sim)"
   ]
  },
  {
   "cell_type": "code",
   "execution_count": 37,
   "metadata": {},
   "outputs": [
    {
     "data": {
      "text/plain": [
       "0.29094"
      ]
     },
     "execution_count": 37,
     "metadata": {},
     "output_type": "execute_result"
    }
   ],
   "source": [
    "accuracy(tf_idf_cos_sim)"
   ]
  },
  {
   "cell_type": "code",
   "execution_count": null,
   "metadata": {},
   "outputs": [],
   "source": []
  }
 ],
 "metadata": {
  "kernelspec": {
   "display_name": "Python 3",
   "language": "python",
   "name": "python3"
  },
  "language_info": {
   "codemirror_mode": {
    "name": "ipython",
    "version": 3
   },
   "file_extension": ".py",
   "mimetype": "text/x-python",
   "name": "python",
   "nbconvert_exporter": "python",
   "pygments_lexer": "ipython3",
   "version": "3.8.3"
  }
 },
 "nbformat": 4,
 "nbformat_minor": 4
}
