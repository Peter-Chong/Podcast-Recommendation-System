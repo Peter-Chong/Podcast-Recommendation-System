{
 "cells": [
  {
   "cell_type": "code",
   "execution_count": 1,
   "metadata": {},
   "outputs": [],
   "source": [
    "import re\n",
    "import json\n",
    "import numpy as np\n",
    "import pandas as pd\n",
    "pd.set_option('display.max_colwidth', None)"
   ]
  },
  {
   "cell_type": "markdown",
   "metadata": {},
   "source": [
    "## Merge two datasets"
   ]
  },
  {
   "cell_type": "code",
   "execution_count": 2,
   "metadata": {},
   "outputs": [],
   "source": [
    "with open('../data/json/podcast_info.json') as file:\n",
    "        podcast_1 = json.load(file)"
   ]
  },
  {
   "cell_type": "code",
   "execution_count": 3,
   "metadata": {},
   "outputs": [],
   "source": [
    "with open('../data/json/podcast_info_add.json') as file:\n",
    "        podcast_2 = json.load(file)"
   ]
  },
  {
   "cell_type": "code",
   "execution_count": 4,
   "metadata": {},
   "outputs": [],
   "source": [
    "df1 = pd.DataFrame(podcast_1)\n",
    "df2 = pd.DataFrame(podcast_2)"
   ]
  },
  {
   "cell_type": "code",
   "execution_count": 5,
   "metadata": {
    "scrolled": false
   },
   "outputs": [
    {
     "name": "stdout",
     "output_type": "stream",
     "text": [
      "(4549, 8)\n",
      "(427, 8)\n"
     ]
    }
   ],
   "source": [
    "print(df1.shape)\n",
    "print(df2.shape)"
   ]
  },
  {
   "cell_type": "code",
   "execution_count": 6,
   "metadata": {},
   "outputs": [],
   "source": [
    "df1.drop(df1[df1.title == \"\"].index, inplace=True)"
   ]
  },
  {
   "cell_type": "code",
   "execution_count": 7,
   "metadata": {},
   "outputs": [
    {
     "name": "stdout",
     "output_type": "stream",
     "text": [
      "(4122, 8)\n"
     ]
    }
   ],
   "source": [
    "print(df1.shape)"
   ]
  },
  {
   "cell_type": "code",
   "execution_count": 8,
   "metadata": {},
   "outputs": [],
   "source": [
    "df = df1.append(df2, ignore_index=True, sort=False)"
   ]
  },
  {
   "cell_type": "code",
   "execution_count": 9,
   "metadata": {},
   "outputs": [
    {
     "data": {
      "text/plain": [
       "(4549, 8)"
      ]
     },
     "execution_count": 9,
     "metadata": {},
     "output_type": "execute_result"
    }
   ],
   "source": [
    "df.shape"
   ]
  },
  {
   "cell_type": "code",
   "execution_count": 10,
   "metadata": {
    "scrolled": true
   },
   "outputs": [
    {
     "data": {
      "text/html": [
       "<div>\n",
       "<style scoped>\n",
       "    .dataframe tbody tr th:only-of-type {\n",
       "        vertical-align: middle;\n",
       "    }\n",
       "\n",
       "    .dataframe tbody tr th {\n",
       "        vertical-align: top;\n",
       "    }\n",
       "\n",
       "    .dataframe thead th {\n",
       "        text-align: right;\n",
       "    }\n",
       "</style>\n",
       "<table border=\"1\" class=\"dataframe\">\n",
       "  <thead>\n",
       "    <tr style=\"text-align: right;\">\n",
       "      <th></th>\n",
       "      <th>title</th>\n",
       "      <th>producer</th>\n",
       "      <th>genre</th>\n",
       "      <th>rating</th>\n",
       "      <th>num_ratings</th>\n",
       "      <th>num_episodes</th>\n",
       "      <th>description</th>\n",
       "      <th>link</th>\n",
       "    </tr>\n",
       "  </thead>\n",
       "  <tbody>\n",
       "    <tr>\n",
       "      <th>0</th>\n",
       "      <td>Green Eggs and Dan</td>\n",
       "      <td>The Podglomerate</td>\n",
       "      <td>Arts</td>\n",
       "      <td>4.6</td>\n",
       "      <td>337</td>\n",
       "      <td>49</td>\n",
       "      <td>Taking a new look at “you are what you eat,” comedian Dan Ahdoot brings listeners in on conversations about food, life, and more, with some of his most entertaining friends. Not your typical, holier-than-thou food show, Green Eggs and Dan is the type of food podcast you’d make with your friends around the table, roasting more than just the food.</td>\n",
       "      <td>https://podcasts.apple.com/us/podcast/green-eggs-and-dan/id1471389934</td>\n",
       "    </tr>\n",
       "    <tr>\n",
       "      <th>1</th>\n",
       "      <td>Audio Poem of the Day</td>\n",
       "      <td>Poetry Foundation</td>\n",
       "      <td>Arts</td>\n",
       "      <td>4.4</td>\n",
       "      <td>237</td>\n",
       "      <td>100</td>\n",
       "      <td>Audio recordings of classic and contemporary poems read by poets and actors, delivered every day.</td>\n",
       "      <td>https://podcasts.apple.com/us/podcast/audio-poem-of-the-day/id270054094</td>\n",
       "    </tr>\n",
       "  </tbody>\n",
       "</table>\n",
       "</div>"
      ],
      "text/plain": [
       "                   title           producer genre  rating  num_ratings  \\\n",
       "0     Green Eggs and Dan   The Podglomerate  Arts     4.6          337   \n",
       "1  Audio Poem of the Day  Poetry Foundation  Arts     4.4          237   \n",
       "\n",
       "   num_episodes  \\\n",
       "0            49   \n",
       "1           100   \n",
       "\n",
       "                                                                                                                                                                                                                                                                                                                                                   description  \\\n",
       "0  Taking a new look at “you are what you eat,” comedian Dan Ahdoot brings listeners in on conversations about food, life, and more, with some of his most entertaining friends. Not your typical, holier-than-thou food show, Green Eggs and Dan is the type of food podcast you’d make with your friends around the table, roasting more than just the food.   \n",
       "1                                                                                                                                                                                                                                                            Audio recordings of classic and contemporary poems read by poets and actors, delivered every day.   \n",
       "\n",
       "                                                                      link  \n",
       "0    https://podcasts.apple.com/us/podcast/green-eggs-and-dan/id1471389934  \n",
       "1  https://podcasts.apple.com/us/podcast/audio-poem-of-the-day/id270054094  "
      ]
     },
     "execution_count": 10,
     "metadata": {},
     "output_type": "execute_result"
    }
   ],
   "source": [
    "df.head(2)"
   ]
  },
  {
   "cell_type": "markdown",
   "metadata": {},
   "source": [
    "## Null values"
   ]
  },
  {
   "cell_type": "code",
   "execution_count": 11,
   "metadata": {
    "scrolled": true
   },
   "outputs": [
    {
     "data": {
      "text/plain": [
       "(0, 8)"
      ]
     },
     "execution_count": 11,
     "metadata": {},
     "output_type": "execute_result"
    }
   ],
   "source": [
    "df[df.title == \"\"].shape"
   ]
  },
  {
   "cell_type": "code",
   "execution_count": 12,
   "metadata": {},
   "outputs": [
    {
     "data": {
      "text/plain": [
       "(0, 8)"
      ]
     },
     "execution_count": 12,
     "metadata": {},
     "output_type": "execute_result"
    }
   ],
   "source": [
    "df[df.producer == \"\"].shape"
   ]
  },
  {
   "cell_type": "code",
   "execution_count": 13,
   "metadata": {},
   "outputs": [
    {
     "data": {
      "text/plain": [
       "(0, 8)"
      ]
     },
     "execution_count": 13,
     "metadata": {},
     "output_type": "execute_result"
    }
   ],
   "source": [
    "df[df.genre == \"\"].shape"
   ]
  },
  {
   "cell_type": "code",
   "execution_count": 14,
   "metadata": {
    "scrolled": true
   },
   "outputs": [
    {
     "data": {
      "text/plain": [
       "(14, 8)"
      ]
     },
     "execution_count": 14,
     "metadata": {},
     "output_type": "execute_result"
    }
   ],
   "source": [
    "df[df.rating == 0].shape"
   ]
  },
  {
   "cell_type": "code",
   "execution_count": 15,
   "metadata": {},
   "outputs": [
    {
     "data": {
      "text/plain": [
       "(14, 8)"
      ]
     },
     "execution_count": 15,
     "metadata": {},
     "output_type": "execute_result"
    }
   ],
   "source": [
    "df[df.num_ratings == 0].shape"
   ]
  },
  {
   "cell_type": "code",
   "execution_count": 16,
   "metadata": {},
   "outputs": [
    {
     "data": {
      "text/plain": [
       "(0, 8)"
      ]
     },
     "execution_count": 16,
     "metadata": {},
     "output_type": "execute_result"
    }
   ],
   "source": [
    "df[df.num_episodes == 0].shape"
   ]
  },
  {
   "cell_type": "code",
   "execution_count": 17,
   "metadata": {},
   "outputs": [
    {
     "data": {
      "text/plain": [
       "(1, 8)"
      ]
     },
     "execution_count": 17,
     "metadata": {},
     "output_type": "execute_result"
    }
   ],
   "source": [
    "df[df.description == \"\"].shape"
   ]
  },
  {
   "cell_type": "code",
   "execution_count": 18,
   "metadata": {},
   "outputs": [
    {
     "data": {
      "text/plain": [
       "(0, 8)"
      ]
     },
     "execution_count": 18,
     "metadata": {},
     "output_type": "execute_result"
    }
   ],
   "source": [
    "df[df.link == \"\"].shape"
   ]
  },
  {
   "cell_type": "code",
   "execution_count": 19,
   "metadata": {},
   "outputs": [],
   "source": [
    "df.drop(df[df.description == \"\"].index, inplace=True)"
   ]
  },
  {
   "cell_type": "code",
   "execution_count": 20,
   "metadata": {},
   "outputs": [],
   "source": [
    "df.drop(df[df.num_ratings == 0].index, inplace=True)"
   ]
  },
  {
   "cell_type": "markdown",
   "metadata": {},
   "source": [
    "## Duplicates"
   ]
  },
  {
   "cell_type": "code",
   "execution_count": 21,
   "metadata": {},
   "outputs": [
    {
     "data": {
      "text/html": [
       "<div>\n",
       "<style scoped>\n",
       "    .dataframe tbody tr th:only-of-type {\n",
       "        vertical-align: middle;\n",
       "    }\n",
       "\n",
       "    .dataframe tbody tr th {\n",
       "        vertical-align: top;\n",
       "    }\n",
       "\n",
       "    .dataframe thead th {\n",
       "        text-align: right;\n",
       "    }\n",
       "</style>\n",
       "<table border=\"1\" class=\"dataframe\">\n",
       "  <thead>\n",
       "    <tr style=\"text-align: right;\">\n",
       "      <th></th>\n",
       "      <th>title</th>\n",
       "      <th>producer</th>\n",
       "      <th>genre</th>\n",
       "      <th>rating</th>\n",
       "      <th>num_ratings</th>\n",
       "      <th>num_episodes</th>\n",
       "      <th>description</th>\n",
       "      <th>link</th>\n",
       "    </tr>\n",
       "  </thead>\n",
       "  <tbody>\n",
       "    <tr>\n",
       "      <th>50</th>\n",
       "      <td>The Jeselnik &amp; Rosenthal Vanity Project</td>\n",
       "      <td>All Things Comedy</td>\n",
       "      <td>Arts</td>\n",
       "      <td>4.9</td>\n",
       "      <td>3700</td>\n",
       "      <td>111</td>\n",
       "      <td>Anthony Jeselnik is a world famous comedian, Gregg Rosenthal is an analyst for NFL Network and they have been best friends for over 20 years. Each week, JRVP features stories from their lives, deep dives into the darkest and craziest news stories from around the world and essential recommendations to their listeners. The hilarious podcast is about friendship, family and Anthony's unquenchable desire to get Gregg in trouble with his employer and his wife.</td>\n",
       "      <td>https://podcasts.apple.com/us/podcast/the-jeselnik-rosenthal-vanity-project/id1434904509</td>\n",
       "    </tr>\n",
       "    <tr>\n",
       "      <th>171</th>\n",
       "      <td>The Jeselnik &amp; Rosenthal Vanity Project</td>\n",
       "      <td>All Things Comedy</td>\n",
       "      <td>Arts</td>\n",
       "      <td>4.7</td>\n",
       "      <td>152</td>\n",
       "      <td>111</td>\n",
       "      <td>Anthony Jeselnik is a world famous comedian, Gregg Rosenthal is an analyst for NFL Network and they have been best friends for over 20 years. Each week, JRVP features stories from their lives, deep dives into the darkest and craziest news stories from around the world and essential recommendations to their listeners. The hilarious podcast is about friendship, family and Anthony's unquenchable desire to get Gregg in trouble with his employer and his wife.</td>\n",
       "      <td>https://podcasts.apple.com/us/podcast/the-jeselnik-rosenthal-vanity-project/id1531500699</td>\n",
       "    </tr>\n",
       "    <tr>\n",
       "      <th>519</th>\n",
       "      <td>SmartLess</td>\n",
       "      <td>Jason Bateman, Sean Hayes, Will Arnett</td>\n",
       "      <td>Comedy</td>\n",
       "      <td>4.7</td>\n",
       "      <td>23700</td>\n",
       "      <td>52</td>\n",
       "      <td>\"SmartLess\" with Jason Bateman, Sean Hayes, &amp; Will Arnett is a podcast that connects and unites people from all walks of life to learn about shared experiences through thoughtful dialogue and organic hilarity. A nice surprise: in each episode of SmartLess, one of the hosts reveals his mystery guest to the other two. What ensues is a genuinely improvised and authentic conversation filled with laughter and newfound knowledge to feed the SmartLess mind.</td>\n",
       "      <td>https://podcasts.apple.com/us/podcast/smartless/id1521578868</td>\n",
       "    </tr>\n",
       "    <tr>\n",
       "      <th>650</th>\n",
       "      <td>SmartLess</td>\n",
       "      <td>Jason Bateman, Sean Hayes, Will Arnett</td>\n",
       "      <td>Comedy</td>\n",
       "      <td>5.0</td>\n",
       "      <td>2</td>\n",
       "      <td>52</td>\n",
       "      <td>\"SmartLess\" with Jason Bateman, Sean Hayes, &amp; Will Arnett is a podcast that connects and unites people from all walks of life to learn about shared experiences through thoughtful dialogue and organic hilarity. A nice surprise: in each episode of SmartLess, one of the hosts reveals his mystery guest to the other two. What ensues is a genuinely improvised and authentic conversation filled with laughter and newfound knowledge to feed the SmartLess mind.</td>\n",
       "      <td>https://podcasts.apple.com/us/podcast/smartless/id1573787392</td>\n",
       "    </tr>\n",
       "    <tr>\n",
       "      <th>1443</th>\n",
       "      <td>Radio Headspace</td>\n",
       "      <td>Headspace Studios</td>\n",
       "      <td>Health &amp; Fitness</td>\n",
       "      <td>5.0</td>\n",
       "      <td>1</td>\n",
       "      <td>290</td>\n",
       "      <td>Join us every weekday morning to take a few moments to step out of the internal chatter and external noise. We'll pause and reflect to consider what brings us together in this shared human condition and how we can live a life that best reflects our limitless potential.</td>\n",
       "      <td>https://podcasts.apple.com/us/podcast/radio-headspace/id1565392945</td>\n",
       "    </tr>\n",
       "    <tr>\n",
       "      <th>1652</th>\n",
       "      <td>Radio Headspace</td>\n",
       "      <td>Headspace Studios</td>\n",
       "      <td>Health &amp; Fitness</td>\n",
       "      <td>4.6</td>\n",
       "      <td>1500</td>\n",
       "      <td>290</td>\n",
       "      <td>Join us every weekday morning to take a few moments to step out of the internal chatter and external noise. We'll pause and reflect to consider what brings us together in this shared human condition and how we can live a life that best reflects our limitless potential.</td>\n",
       "      <td>https://podcasts.apple.com/us/podcast/radio-headspace/id1510981488</td>\n",
       "    </tr>\n",
       "    <tr>\n",
       "      <th>1762</th>\n",
       "      <td>Blindspot</td>\n",
       "      <td>The HISTORY® Channel and WNYC Studios</td>\n",
       "      <td>History</td>\n",
       "      <td>4.1</td>\n",
       "      <td>293</td>\n",
       "      <td>16</td>\n",
       "      <td>On May 31, 1921, Tulsa’s Greenwood District was thriving — a Black city within a city. By June 1, it was in ashes, leveled by a white supremacist mob. The Tulsa Race Massacre remains one of the worst incidents of racial terror in U.S. history. In six episodes, Blindspot: Tulsa Burning tells the story of a thriving neighborhood that attackers set on fire, and the scars that remain 100 years later. We consider the life of this remarkable 35 blocks of Tulsa through the stories of the survivors, descendants and inheritors of that legacy. A co-production of The HISTORY® Channel and WNYC Studios, in collaboration with KOSU and Focus Black Oklahoma. New episodes drop every Friday.</td>\n",
       "      <td>https://podcasts.apple.com/us/podcast/blindspot/id1567282609</td>\n",
       "    </tr>\n",
       "    <tr>\n",
       "      <th>1870</th>\n",
       "      <td>Blindspot</td>\n",
       "      <td>HISTORY</td>\n",
       "      <td>History</td>\n",
       "      <td>4.5</td>\n",
       "      <td>1300</td>\n",
       "      <td>16</td>\n",
       "      <td>On May 31, 1921, Tulsa’s Greenwood District was thriving — a Black city within a city. By June 1, it was in ashes, leveled by a white supremacist mob. The Tulsa Race Massacre remains one of the worst incidents of racial terror in U.S. history. In six episodes, Blindspot: Tulsa Burning tells the story of a thriving neighborhood that attackers set on fire, and the scars that remain 100 years later. We consider the life of this remarkable 35 blocks of Tulsa through the stories of the survivors, descendants and inheritors of that legacy. A co-production of The HISTORY® Channel and WNYC Studios, in collaboration with KOSU and Focus Black Oklahoma. New episodes drop every Friday.</td>\n",
       "      <td>https://podcasts.apple.com/us/podcast/blindspot/id1529014757</td>\n",
       "    </tr>\n",
       "    <tr>\n",
       "      <th>2173</th>\n",
       "      <td>Critical Role</td>\n",
       "      <td>Critical Role</td>\n",
       "      <td>Leisure</td>\n",
       "      <td>4.9</td>\n",
       "      <td>7700</td>\n",
       "      <td>238</td>\n",
       "      <td>Welcome to Critical Role, where a bunch of nerdy-ass voice actors sit around and play Dungeons &amp; Dragons! Join Game Master Matthew Mercer and an all-star cast of world-class performers each week as they travel through imaginary realms for more adventure than you can shake a magic staff at. Need a deeper dive? Be sure to catch Talks Machina with Brian W. Foster, the official Critical Role companion show, right here on Critical Role.</td>\n",
       "      <td>https://podcasts.apple.com/us/podcast/critical-role/id1453805439</td>\n",
       "    </tr>\n",
       "    <tr>\n",
       "      <th>2176</th>\n",
       "      <td>Critical Role</td>\n",
       "      <td>Nerdist Industries</td>\n",
       "      <td>Leisure</td>\n",
       "      <td>4.8</td>\n",
       "      <td>962</td>\n",
       "      <td>206</td>\n",
       "      <td>Voice actor Matthew Mercer leads a group of fellow voice actors on epic Dungeons &amp; Dragons campaigns. These familiar voices bring the audience into the full experience of D&amp;D, allowing imaginations to soar as the characters embark on adventures. This is Critical Role!</td>\n",
       "      <td>https://podcasts.apple.com/us/podcast/critical-role/id1522600041</td>\n",
       "    </tr>\n",
       "    <tr>\n",
       "      <th>2249</th>\n",
       "      <td>Trash Taste Podcast</td>\n",
       "      <td>Trash Taste Podcast</td>\n",
       "      <td>Leisure</td>\n",
       "      <td>5.0</td>\n",
       "      <td>5</td>\n",
       "      <td>1</td>\n",
       "      <td>A podcast with attitude that hits different.Trash Taste is a highly anticipated anime podcast exploring anime, manga, and otaku culture with top anime YouTubers Joey from The Anime Man, Garnt from Gigguk, and Connor from Cdawgva and occasionally special guests.</td>\n",
       "      <td>https://podcasts.apple.com/us/podcast/trash-taste-podcast/id1573088950</td>\n",
       "    </tr>\n",
       "    <tr>\n",
       "      <th>2302</th>\n",
       "      <td>Trash Taste Podcast</td>\n",
       "      <td>Joey (TheAnimeMan), Garnt (Gigguk), and Connor (CDawgVA)</td>\n",
       "      <td>Leisure</td>\n",
       "      <td>4.9</td>\n",
       "      <td>1800</td>\n",
       "      <td>55</td>\n",
       "      <td>Trash Taste is a highly anticipated anime podcast exploring anime, manga, and otaku culture with top anime YouTubers Joey from the The Anime Man, Garnt from Gigguk, and Connor from Cdawgva and occasionally special guests.</td>\n",
       "      <td>https://podcasts.apple.com/us/podcast/trash-taste-podcast/id1518683867</td>\n",
       "    </tr>\n",
       "    <tr>\n",
       "      <th>2423</th>\n",
       "      <td>Song of the Day</td>\n",
       "      <td>MPR</td>\n",
       "      <td>Music</td>\n",
       "      <td>4.6</td>\n",
       "      <td>512</td>\n",
       "      <td>7</td>\n",
       "      <td>Music lovers from 89.3 The Current comb through mountains of music to choose the best new, independent, and unreleased songs to share with you each weekday.</td>\n",
       "      <td>https://podcasts.apple.com/us/podcast/song-of-the-day/id211872343</td>\n",
       "    </tr>\n",
       "    <tr>\n",
       "      <th>2594</th>\n",
       "      <td>Song of the Day</td>\n",
       "      <td>KEXP</td>\n",
       "      <td>Music</td>\n",
       "      <td>4.7</td>\n",
       "      <td>941</td>\n",
       "      <td>1589</td>\n",
       "      <td>KEXP’s Song of the Day podcast features stand-out tracks from independent and emerging talent alongside the best new music from more established artists. Curated by KEXP DJs with listeners’ adventurous taste in mind, Song of the Day is delivered daily, Monday through Friday. Finding new music can be hard. Let KEXP help!</td>\n",
       "      <td>https://podcasts.apple.com/us/podcast/song-of-the-day/id121393815</td>\n",
       "    </tr>\n",
       "    <tr>\n",
       "      <th>2747</th>\n",
       "      <td>Science Vs</td>\n",
       "      <td>ABC Podcasts</td>\n",
       "      <td>Science</td>\n",
       "      <td>4.3</td>\n",
       "      <td>484</td>\n",
       "      <td>20</td>\n",
       "      <td>Science journalist Wendy Zukerman dissects the latest fad framing itself as scientific fact, wading through the mass of information so you don't have to.</td>\n",
       "      <td>https://podcasts.apple.com/us/podcast/science-vs/id998250544</td>\n",
       "    </tr>\n",
       "    <tr>\n",
       "      <th>2796</th>\n",
       "      <td>Science Vs</td>\n",
       "      <td>Gimlet Media</td>\n",
       "      <td>Science</td>\n",
       "      <td>4.5</td>\n",
       "      <td>9200</td>\n",
       "      <td>155</td>\n",
       "      <td>There are a lot of fads, blogs and strong opinions, but then there’s SCIENCE. Science Vs is the show from Gimlet that finds out what’s fact, what’s not, and what’s somewhere in between. We do the hard work of sifting through all the science so you don't have to and cover everything from 5G and Pandemics, to Vaping and Fasting Diets.</td>\n",
       "      <td>https://podcasts.apple.com/us/podcast/science-vs/id1051557000</td>\n",
       "    </tr>\n",
       "    <tr>\n",
       "      <th>3702</th>\n",
       "      <td>Lex Fridman Podcast</td>\n",
       "      <td>Lex Fridman</td>\n",
       "      <td>Technology</td>\n",
       "      <td>4.9</td>\n",
       "      <td>5200</td>\n",
       "      <td>200</td>\n",
       "      <td>Conversations about science, technology, history, philosophy and the nature of intelligence, consciousness, love, and power. Lex is an AI researcher at MIT and beyond.</td>\n",
       "      <td>https://podcasts.apple.com/us/podcast/lex-fridman-podcast/id1434243584</td>\n",
       "    </tr>\n",
       "    <tr>\n",
       "      <th>3727</th>\n",
       "      <td>Lex Fridman Podcast</td>\n",
       "      <td>Lex Fridman</td>\n",
       "      <td>Technology</td>\n",
       "      <td>4.9</td>\n",
       "      <td>93</td>\n",
       "      <td>200</td>\n",
       "      <td>Conversations about science, technology, history, philosophy and the nature of intelligence, consciousness, love, and power. Lex is an AI researcher at MIT and beyond.</td>\n",
       "      <td>https://podcasts.apple.com/us/podcast/lex-fridman-podcast/id690305972</td>\n",
       "    </tr>\n",
       "    <tr>\n",
       "      <th>4447</th>\n",
       "      <td>Elevation with Steven Furtick</td>\n",
       "      <td>Elevation Church</td>\n",
       "      <td>Religion &amp; Spirituality</td>\n",
       "      <td>4.8</td>\n",
       "      <td>12400</td>\n",
       "      <td>165</td>\n",
       "      <td>Welcome to the weekly podcast of Elevation Church led by Pastor Steven Furtick. To learn more visit our website at http://elevationchurch.org or download the Elevation App. To support this ministry and help us continue to reach people all around the world click here: http://ele.vc/TI55jR</td>\n",
       "      <td>https://podcasts.apple.com/us/podcast/elevation-with-steven-furtick/id216015753</td>\n",
       "    </tr>\n",
       "    <tr>\n",
       "      <th>4546</th>\n",
       "      <td>Elevation with Steven Furtick</td>\n",
       "      <td>Elevation Church</td>\n",
       "      <td>Religion &amp; Spirituality</td>\n",
       "      <td>4.8</td>\n",
       "      <td>1400</td>\n",
       "      <td>105</td>\n",
       "      <td>Welcome to the weekly podcast of Elevation Church led by Pastor Steven Furtick. To learn more visit our website at http://elevationchurch.org or download the Elevation App. To support this ministry and help us continue to reach people all around the world click here: http://ele.vc/WeX3nP</td>\n",
       "      <td>https://podcasts.apple.com/us/podcast/elevation-with-steven-furtick/id444092800</td>\n",
       "    </tr>\n",
       "  </tbody>\n",
       "</table>\n",
       "</div>"
      ],
      "text/plain": [
       "                                        title  \\\n",
       "50    The Jeselnik & Rosenthal Vanity Project   \n",
       "171   The Jeselnik & Rosenthal Vanity Project   \n",
       "519                                 SmartLess   \n",
       "650                                 SmartLess   \n",
       "1443                          Radio Headspace   \n",
       "1652                          Radio Headspace   \n",
       "1762                                Blindspot   \n",
       "1870                                Blindspot   \n",
       "2173                            Critical Role   \n",
       "2176                            Critical Role   \n",
       "2249                      Trash Taste Podcast   \n",
       "2302                      Trash Taste Podcast   \n",
       "2423                          Song of the Day   \n",
       "2594                          Song of the Day   \n",
       "2747                               Science Vs   \n",
       "2796                               Science Vs   \n",
       "3702                      Lex Fridman Podcast   \n",
       "3727                      Lex Fridman Podcast   \n",
       "4447            Elevation with Steven Furtick   \n",
       "4546            Elevation with Steven Furtick   \n",
       "\n",
       "                                                      producer  \\\n",
       "50                                           All Things Comedy   \n",
       "171                                          All Things Comedy   \n",
       "519                     Jason Bateman, Sean Hayes, Will Arnett   \n",
       "650                     Jason Bateman, Sean Hayes, Will Arnett   \n",
       "1443                                         Headspace Studios   \n",
       "1652                                         Headspace Studios   \n",
       "1762                     The HISTORY® Channel and WNYC Studios   \n",
       "1870                                                   HISTORY   \n",
       "2173                                             Critical Role   \n",
       "2176                                        Nerdist Industries   \n",
       "2249                                       Trash Taste Podcast   \n",
       "2302  Joey (TheAnimeMan), Garnt (Gigguk), and Connor (CDawgVA)   \n",
       "2423                                                       MPR   \n",
       "2594                                                      KEXP   \n",
       "2747                                              ABC Podcasts   \n",
       "2796                                              Gimlet Media   \n",
       "3702                                               Lex Fridman   \n",
       "3727                                               Lex Fridman   \n",
       "4447                                          Elevation Church   \n",
       "4546                                          Elevation Church   \n",
       "\n",
       "                        genre  rating  num_ratings  num_episodes  \\\n",
       "50                       Arts     4.9         3700           111   \n",
       "171                      Arts     4.7          152           111   \n",
       "519                    Comedy     4.7        23700            52   \n",
       "650                    Comedy     5.0            2            52   \n",
       "1443         Health & Fitness     5.0            1           290   \n",
       "1652         Health & Fitness     4.6         1500           290   \n",
       "1762                  History     4.1          293            16   \n",
       "1870                  History     4.5         1300            16   \n",
       "2173                  Leisure     4.9         7700           238   \n",
       "2176                  Leisure     4.8          962           206   \n",
       "2249                  Leisure     5.0            5             1   \n",
       "2302                  Leisure     4.9         1800            55   \n",
       "2423                    Music     4.6          512             7   \n",
       "2594                    Music     4.7          941          1589   \n",
       "2747                  Science     4.3          484            20   \n",
       "2796                  Science     4.5         9200           155   \n",
       "3702               Technology     4.9         5200           200   \n",
       "3727               Technology     4.9           93           200   \n",
       "4447  Religion & Spirituality     4.8        12400           165   \n",
       "4546  Religion & Spirituality     4.8         1400           105   \n",
       "\n",
       "                                                                                                                                                                                                                                                                                                                                                                                                                                                                                                                                                                                                                                                                                                     description  \\\n",
       "50                                                                                                                                                                                                                                    Anthony Jeselnik is a world famous comedian, Gregg Rosenthal is an analyst for NFL Network and they have been best friends for over 20 years. Each week, JRVP features stories from their lives, deep dives into the darkest and craziest news stories from around the world and essential recommendations to their listeners. The hilarious podcast is about friendship, family and Anthony's unquenchable desire to get Gregg in trouble with his employer and his wife.   \n",
       "171                                                                                                                                                                                                                                   Anthony Jeselnik is a world famous comedian, Gregg Rosenthal is an analyst for NFL Network and they have been best friends for over 20 years. Each week, JRVP features stories from their lives, deep dives into the darkest and craziest news stories from around the world and essential recommendations to their listeners. The hilarious podcast is about friendship, family and Anthony's unquenchable desire to get Gregg in trouble with his employer and his wife.   \n",
       "519                                                                                                                                                                                                                                       \"SmartLess\" with Jason Bateman, Sean Hayes, & Will Arnett is a podcast that connects and unites people from all walks of life to learn about shared experiences through thoughtful dialogue and organic hilarity. A nice surprise: in each episode of SmartLess, one of the hosts reveals his mystery guest to the other two. What ensues is a genuinely improvised and authentic conversation filled with laughter and newfound knowledge to feed the SmartLess mind.   \n",
       "650                                                                                                                                                                                                                                       \"SmartLess\" with Jason Bateman, Sean Hayes, & Will Arnett is a podcast that connects and unites people from all walks of life to learn about shared experiences through thoughtful dialogue and organic hilarity. A nice surprise: in each episode of SmartLess, one of the hosts reveals his mystery guest to the other two. What ensues is a genuinely improvised and authentic conversation filled with laughter and newfound knowledge to feed the SmartLess mind.   \n",
       "1443                                                                                                                                                                                                                                                                                                                                                                                                                               Join us every weekday morning to take a few moments to step out of the internal chatter and external noise. We'll pause and reflect to consider what brings us together in this shared human condition and how we can live a life that best reflects our limitless potential.   \n",
       "1652                                                                                                                                                                                                                                                                                                                                                                                                                               Join us every weekday morning to take a few moments to step out of the internal chatter and external noise. We'll pause and reflect to consider what brings us together in this shared human condition and how we can live a life that best reflects our limitless potential.   \n",
       "1762  On May 31, 1921, Tulsa’s Greenwood District was thriving — a Black city within a city. By June 1, it was in ashes, leveled by a white supremacist mob. The Tulsa Race Massacre remains one of the worst incidents of racial terror in U.S. history. In six episodes, Blindspot: Tulsa Burning tells the story of a thriving neighborhood that attackers set on fire, and the scars that remain 100 years later. We consider the life of this remarkable 35 blocks of Tulsa through the stories of the survivors, descendants and inheritors of that legacy. A co-production of The HISTORY® Channel and WNYC Studios, in collaboration with KOSU and Focus Black Oklahoma. New episodes drop every Friday.   \n",
       "1870  On May 31, 1921, Tulsa’s Greenwood District was thriving — a Black city within a city. By June 1, it was in ashes, leveled by a white supremacist mob. The Tulsa Race Massacre remains one of the worst incidents of racial terror in U.S. history. In six episodes, Blindspot: Tulsa Burning tells the story of a thriving neighborhood that attackers set on fire, and the scars that remain 100 years later. We consider the life of this remarkable 35 blocks of Tulsa through the stories of the survivors, descendants and inheritors of that legacy. A co-production of The HISTORY® Channel and WNYC Studios, in collaboration with KOSU and Focus Black Oklahoma. New episodes drop every Friday.   \n",
       "2173                                                                                                                                                                                                                                                         Welcome to Critical Role, where a bunch of nerdy-ass voice actors sit around and play Dungeons & Dragons! Join Game Master Matthew Mercer and an all-star cast of world-class performers each week as they travel through imaginary realms for more adventure than you can shake a magic staff at. Need a deeper dive? Be sure to catch Talks Machina with Brian W. Foster, the official Critical Role companion show, right here on Critical Role.   \n",
       "2176                                                                                                                                                                                                                                                                                                                                                                                                                                Voice actor Matthew Mercer leads a group of fellow voice actors on epic Dungeons & Dragons campaigns. These familiar voices bring the audience into the full experience of D&D, allowing imaginations to soar as the characters embark on adventures. This is Critical Role!   \n",
       "2249                                                                                                                                                                                                                                                                                                                                                                                                                                       A podcast with attitude that hits different.Trash Taste is a highly anticipated anime podcast exploring anime, manga, and otaku culture with top anime YouTubers Joey from The Anime Man, Garnt from Gigguk, and Connor from Cdawgva and occasionally special guests.   \n",
       "2302                                                                                                                                                                                                                                                                                                                                                                                                                                                                               Trash Taste is a highly anticipated anime podcast exploring anime, manga, and otaku culture with top anime YouTubers Joey from the The Anime Man, Garnt from Gigguk, and Connor from Cdawgva and occasionally special guests.   \n",
       "2423                                                                                                                                                                                                                                                                                                                                                                                                                                                                                                                                                Music lovers from 89.3 The Current comb through mountains of music to choose the best new, independent, and unreleased songs to share with you each weekday.   \n",
       "2594                                                                                                                                                                                                                                                                                                                                                                           KEXP’s Song of the Day podcast features stand-out tracks from independent and emerging talent alongside the best new music from more established artists. Curated by KEXP DJs with listeners’ adventurous taste in mind, Song of the Day is delivered daily, Monday through Friday. Finding new music can be hard. Let KEXP help!   \n",
       "2747                                                                                                                                                                                                                                                                                                                                                                                                                                                                                                                                                   Science journalist Wendy Zukerman dissects the latest fad framing itself as scientific fact, wading through the mass of information so you don't have to.   \n",
       "2796                                                                                                                                                                                                                                                                                                                                                              There are a lot of fads, blogs and strong opinions, but then there’s SCIENCE. Science Vs is the show from Gimlet that finds out what’s fact, what’s not, and what’s somewhere in between. We do the hard work of sifting through all the science so you don't have to and cover everything from 5G and Pandemics, to Vaping and Fasting Diets.   \n",
       "3702                                                                                                                                                                                                                                                                                                                                                                                                                                                                                                                                     Conversations about science, technology, history, philosophy and the nature of intelligence, consciousness, love, and power. Lex is an AI researcher at MIT and beyond.   \n",
       "3727                                                                                                                                                                                                                                                                                                                                                                                                                                                                                                                                     Conversations about science, technology, history, philosophy and the nature of intelligence, consciousness, love, and power. Lex is an AI researcher at MIT and beyond.   \n",
       "4447                                                                                                                                                                                                                                                                                                                                                                                                            Welcome to the weekly podcast of Elevation Church led by Pastor Steven Furtick. To learn more visit our website at http://elevationchurch.org or download the Elevation App. To support this ministry and help us continue to reach people all around the world click here: http://ele.vc/TI55jR   \n",
       "4546                                                                                                                                                                                                                                                                                                                                                                                                            Welcome to the weekly podcast of Elevation Church led by Pastor Steven Furtick. To learn more visit our website at http://elevationchurch.org or download the Elevation App. To support this ministry and help us continue to reach people all around the world click here: http://ele.vc/WeX3nP   \n",
       "\n",
       "                                                                                          link  \n",
       "50    https://podcasts.apple.com/us/podcast/the-jeselnik-rosenthal-vanity-project/id1434904509  \n",
       "171   https://podcasts.apple.com/us/podcast/the-jeselnik-rosenthal-vanity-project/id1531500699  \n",
       "519                               https://podcasts.apple.com/us/podcast/smartless/id1521578868  \n",
       "650                               https://podcasts.apple.com/us/podcast/smartless/id1573787392  \n",
       "1443                        https://podcasts.apple.com/us/podcast/radio-headspace/id1565392945  \n",
       "1652                        https://podcasts.apple.com/us/podcast/radio-headspace/id1510981488  \n",
       "1762                              https://podcasts.apple.com/us/podcast/blindspot/id1567282609  \n",
       "1870                              https://podcasts.apple.com/us/podcast/blindspot/id1529014757  \n",
       "2173                          https://podcasts.apple.com/us/podcast/critical-role/id1453805439  \n",
       "2176                          https://podcasts.apple.com/us/podcast/critical-role/id1522600041  \n",
       "2249                    https://podcasts.apple.com/us/podcast/trash-taste-podcast/id1573088950  \n",
       "2302                    https://podcasts.apple.com/us/podcast/trash-taste-podcast/id1518683867  \n",
       "2423                         https://podcasts.apple.com/us/podcast/song-of-the-day/id211872343  \n",
       "2594                         https://podcasts.apple.com/us/podcast/song-of-the-day/id121393815  \n",
       "2747                              https://podcasts.apple.com/us/podcast/science-vs/id998250544  \n",
       "2796                             https://podcasts.apple.com/us/podcast/science-vs/id1051557000  \n",
       "3702                    https://podcasts.apple.com/us/podcast/lex-fridman-podcast/id1434243584  \n",
       "3727                     https://podcasts.apple.com/us/podcast/lex-fridman-podcast/id690305972  \n",
       "4447           https://podcasts.apple.com/us/podcast/elevation-with-steven-furtick/id216015753  \n",
       "4546           https://podcasts.apple.com/us/podcast/elevation-with-steven-furtick/id444092800  "
      ]
     },
     "execution_count": 21,
     "metadata": {},
     "output_type": "execute_result"
    }
   ],
   "source": [
    "df[df.duplicated(subset=['title'], keep=False)]"
   ]
  },
  {
   "cell_type": "code",
   "execution_count": 22,
   "metadata": {},
   "outputs": [],
   "source": [
    "df.drop([171, 650, 1443, 1762, 2176, 2249, 2423, 2747, 3727, 4546], inplace=True)"
   ]
  },
  {
   "cell_type": "code",
   "execution_count": 23,
   "metadata": {},
   "outputs": [
    {
     "data": {
      "text/html": [
       "<div>\n",
       "<style scoped>\n",
       "    .dataframe tbody tr th:only-of-type {\n",
       "        vertical-align: middle;\n",
       "    }\n",
       "\n",
       "    .dataframe tbody tr th {\n",
       "        vertical-align: top;\n",
       "    }\n",
       "\n",
       "    .dataframe thead th {\n",
       "        text-align: right;\n",
       "    }\n",
       "</style>\n",
       "<table border=\"1\" class=\"dataframe\">\n",
       "  <thead>\n",
       "    <tr style=\"text-align: right;\">\n",
       "      <th></th>\n",
       "      <th>title</th>\n",
       "      <th>producer</th>\n",
       "      <th>genre</th>\n",
       "      <th>rating</th>\n",
       "      <th>num_ratings</th>\n",
       "      <th>num_episodes</th>\n",
       "      <th>description</th>\n",
       "      <th>link</th>\n",
       "    </tr>\n",
       "  </thead>\n",
       "  <tbody>\n",
       "  </tbody>\n",
       "</table>\n",
       "</div>"
      ],
      "text/plain": [
       "Empty DataFrame\n",
       "Columns: [title, producer, genre, rating, num_ratings, num_episodes, description, link]\n",
       "Index: []"
      ]
     },
     "execution_count": 23,
     "metadata": {},
     "output_type": "execute_result"
    }
   ],
   "source": [
    "df[df.duplicated(subset=['title'], keep=False)]"
   ]
  },
  {
   "cell_type": "code",
   "execution_count": 24,
   "metadata": {},
   "outputs": [
    {
     "data": {
      "text/plain": [
       "(4524, 8)"
      ]
     },
     "execution_count": 24,
     "metadata": {},
     "output_type": "execute_result"
    }
   ],
   "source": [
    "df.shape"
   ]
  },
  {
   "cell_type": "markdown",
   "metadata": {},
   "source": [
    "## English titles"
   ]
  },
  {
   "cell_type": "code",
   "execution_count": 25,
   "metadata": {},
   "outputs": [],
   "source": [
    "titles = list(df['title'])\n",
    "titles = [title.replace(\" \", \"\") for title in titles]\n",
    "titles = [re.sub(r'[^\\w\\s]', '', title) for title in titles]\n",
    "is_english = [bool(re.match(\"^[A-Za-z0-9]*$\", title)) for title in titles]"
   ]
  },
  {
   "cell_type": "code",
   "execution_count": 26,
   "metadata": {},
   "outputs": [],
   "source": [
    "df = df.loc[is_english, :]"
   ]
  },
  {
   "cell_type": "code",
   "execution_count": 27,
   "metadata": {},
   "outputs": [
    {
     "data": {
      "text/plain": [
       "(4460, 8)"
      ]
     },
     "execution_count": 27,
     "metadata": {},
     "output_type": "execute_result"
    }
   ],
   "source": [
    "df.shape"
   ]
  },
  {
   "cell_type": "markdown",
   "metadata": {},
   "source": [
    "# Export to pickle"
   ]
  },
  {
   "cell_type": "code",
   "execution_count": 28,
   "metadata": {},
   "outputs": [],
   "source": [
    "df.reset_index(drop=True, inplace=True)"
   ]
  },
  {
   "cell_type": "code",
   "execution_count": 29,
   "metadata": {},
   "outputs": [],
   "source": [
    "df.to_pickle('../data/pickle/podcasts.pkl')"
   ]
  }
 ],
 "metadata": {
  "kernelspec": {
   "display_name": "Python 3",
   "language": "python",
   "name": "python3"
  },
  "language_info": {
   "codemirror_mode": {
    "name": "ipython",
    "version": 3
   },
   "file_extension": ".py",
   "mimetype": "text/x-python",
   "name": "python",
   "nbconvert_exporter": "python",
   "pygments_lexer": "ipython3",
   "version": "3.8.3"
  }
 },
 "nbformat": 4,
 "nbformat_minor": 4
}
