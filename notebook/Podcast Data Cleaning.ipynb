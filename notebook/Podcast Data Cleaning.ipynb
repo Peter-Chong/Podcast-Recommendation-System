{
 "cells": [
  {
   "cell_type": "code",
   "execution_count": 1,
   "metadata": {},
   "outputs": [],
   "source": [
    "import re\n",
    "import json\n",
    "import numpy as np\n",
    "import pandas as pd\n",
    "#pd.set_option('display.max_colwidth', None)"
   ]
  },
  {
   "cell_type": "markdown",
   "metadata": {},
   "source": [
    "## Merge podcast_info datasets"
   ]
  },
  {
   "cell_type": "code",
   "execution_count": 2,
   "metadata": {},
   "outputs": [],
   "source": [
    "with open('../data/json/podcast_info.json') as file:\n",
    "        podcast_1 = json.load(file)"
   ]
  },
  {
   "cell_type": "code",
   "execution_count": 3,
   "metadata": {},
   "outputs": [],
   "source": [
    "with open('../data/json/podcast_info_add.json') as file:\n",
    "        podcast_2 = json.load(file)"
   ]
  },
  {
   "cell_type": "code",
   "execution_count": 4,
   "metadata": {},
   "outputs": [
    {
     "name": "stdout",
     "output_type": "stream",
     "text": [
      "(4549, 8)\n",
      "(427, 8)\n"
     ]
    }
   ],
   "source": [
    "df1 = pd.DataFrame(podcast_1)\n",
    "df2 = pd.DataFrame(podcast_2)\n",
    "print(df1.shape)\n",
    "print(df2.shape)"
   ]
  },
  {
   "cell_type": "code",
   "execution_count": 5,
   "metadata": {},
   "outputs": [
    {
     "name": "stdout",
     "output_type": "stream",
     "text": [
      "(4122, 8)\n"
     ]
    }
   ],
   "source": [
    "df1.drop(df1[df1.title == \"\"].index, inplace=True)\n",
    "print(df1.shape)"
   ]
  },
  {
   "cell_type": "code",
   "execution_count": 6,
   "metadata": {},
   "outputs": [
    {
     "name": "stdout",
     "output_type": "stream",
     "text": [
      "(4549, 8)\n"
     ]
    }
   ],
   "source": [
    "podcast_info = df1.append(df2, ignore_index=True, sort=False)\n",
    "print(podcast_info.shape)"
   ]
  },
  {
   "cell_type": "code",
   "execution_count": 7,
   "metadata": {
    "scrolled": true
   },
   "outputs": [
    {
     "data": {
      "text/html": [
       "<div>\n",
       "<style scoped>\n",
       "    .dataframe tbody tr th:only-of-type {\n",
       "        vertical-align: middle;\n",
       "    }\n",
       "\n",
       "    .dataframe tbody tr th {\n",
       "        vertical-align: top;\n",
       "    }\n",
       "\n",
       "    .dataframe thead th {\n",
       "        text-align: right;\n",
       "    }\n",
       "</style>\n",
       "<table border=\"1\" class=\"dataframe\">\n",
       "  <thead>\n",
       "    <tr style=\"text-align: right;\">\n",
       "      <th></th>\n",
       "      <th>title</th>\n",
       "      <th>producer</th>\n",
       "      <th>genre</th>\n",
       "      <th>rating</th>\n",
       "      <th>num_ratings</th>\n",
       "      <th>num_episodes</th>\n",
       "      <th>description</th>\n",
       "      <th>link</th>\n",
       "    </tr>\n",
       "  </thead>\n",
       "  <tbody>\n",
       "    <tr>\n",
       "      <th>0</th>\n",
       "      <td>Green Eggs and Dan</td>\n",
       "      <td>The Podglomerate</td>\n",
       "      <td>Arts</td>\n",
       "      <td>4.6</td>\n",
       "      <td>337</td>\n",
       "      <td>49</td>\n",
       "      <td>Taking a new look at “you are what you eat,” c...</td>\n",
       "      <td>https://podcasts.apple.com/us/podcast/green-eg...</td>\n",
       "    </tr>\n",
       "    <tr>\n",
       "      <th>1</th>\n",
       "      <td>Audio Poem of the Day</td>\n",
       "      <td>Poetry Foundation</td>\n",
       "      <td>Arts</td>\n",
       "      <td>4.4</td>\n",
       "      <td>237</td>\n",
       "      <td>100</td>\n",
       "      <td>Audio recordings of classic and contemporary p...</td>\n",
       "      <td>https://podcasts.apple.com/us/podcast/audio-po...</td>\n",
       "    </tr>\n",
       "  </tbody>\n",
       "</table>\n",
       "</div>"
      ],
      "text/plain": [
       "                   title           producer genre  rating  num_ratings  \\\n",
       "0     Green Eggs and Dan   The Podglomerate  Arts     4.6          337   \n",
       "1  Audio Poem of the Day  Poetry Foundation  Arts     4.4          237   \n",
       "\n",
       "   num_episodes                                        description  \\\n",
       "0            49  Taking a new look at “you are what you eat,” c...   \n",
       "1           100  Audio recordings of classic and contemporary p...   \n",
       "\n",
       "                                                link  \n",
       "0  https://podcasts.apple.com/us/podcast/green-eg...  \n",
       "1  https://podcasts.apple.com/us/podcast/audio-po...  "
      ]
     },
     "execution_count": 7,
     "metadata": {},
     "output_type": "execute_result"
    }
   ],
   "source": [
    "podcast_info.head(2)"
   ]
  },
  {
   "cell_type": "markdown",
   "metadata": {},
   "source": [
    "## Merge podcast_eps datasets"
   ]
  },
  {
   "cell_type": "code",
   "execution_count": 8,
   "metadata": {},
   "outputs": [],
   "source": [
    "with open('../data/json/podcast_eps.json') as file:\n",
    "        podcast_1 = json.load(file)"
   ]
  },
  {
   "cell_type": "code",
   "execution_count": 9,
   "metadata": {},
   "outputs": [],
   "source": [
    "with open('../data/json/podcast_eps_add.json') as file:\n",
    "        podcast_2 = json.load(file)"
   ]
  },
  {
   "cell_type": "code",
   "execution_count": 10,
   "metadata": {},
   "outputs": [
    {
     "name": "stdout",
     "output_type": "stream",
     "text": [
      "(4460, 2)\n",
      "(59, 2)\n"
     ]
    }
   ],
   "source": [
    "df1 = pd.DataFrame(podcast_1)\n",
    "df2 = pd.DataFrame(podcast_2)\n",
    "print(df1.shape)\n",
    "print(df2.shape)"
   ]
  },
  {
   "cell_type": "code",
   "execution_count": 11,
   "metadata": {},
   "outputs": [
    {
     "name": "stdout",
     "output_type": "stream",
     "text": [
      "(4401, 2)\n"
     ]
    }
   ],
   "source": [
    "df1.drop(df1[df1.episodes == \"\"].index, inplace=True)\n",
    "print(df1.shape)"
   ]
  },
  {
   "cell_type": "code",
   "execution_count": 12,
   "metadata": {},
   "outputs": [
    {
     "name": "stdout",
     "output_type": "stream",
     "text": [
      "(4460, 2)\n"
     ]
    }
   ],
   "source": [
    "podcast_ep = df1.append(df2, ignore_index=True, sort=False)\n",
    "print(podcast_ep.shape)"
   ]
  },
  {
   "cell_type": "code",
   "execution_count": 13,
   "metadata": {},
   "outputs": [
    {
     "data": {
      "text/html": [
       "<div>\n",
       "<style scoped>\n",
       "    .dataframe tbody tr th:only-of-type {\n",
       "        vertical-align: middle;\n",
       "    }\n",
       "\n",
       "    .dataframe tbody tr th {\n",
       "        vertical-align: top;\n",
       "    }\n",
       "\n",
       "    .dataframe thead th {\n",
       "        text-align: right;\n",
       "    }\n",
       "</style>\n",
       "<table border=\"1\" class=\"dataframe\">\n",
       "  <thead>\n",
       "    <tr style=\"text-align: right;\">\n",
       "      <th></th>\n",
       "      <th>title</th>\n",
       "      <th>episodes</th>\n",
       "    </tr>\n",
       "  </thead>\n",
       "  <tbody>\n",
       "    <tr>\n",
       "      <th>0</th>\n",
       "      <td>Green Eggs and Dan</td>\n",
       "      <td>Today, Dan is joined by his Cobra Kai co-star,...</td>\n",
       "    </tr>\n",
       "    <tr>\n",
       "      <th>1</th>\n",
       "      <td>Audio Poem of the Day</td>\n",
       "      <td>By Maureen ThorsonBy Danez SmithBy Catherine C...</td>\n",
       "    </tr>\n",
       "  </tbody>\n",
       "</table>\n",
       "</div>"
      ],
      "text/plain": [
       "                   title                                           episodes\n",
       "0     Green Eggs and Dan  Today, Dan is joined by his Cobra Kai co-star,...\n",
       "1  Audio Poem of the Day  By Maureen ThorsonBy Danez SmithBy Catherine C..."
      ]
     },
     "execution_count": 13,
     "metadata": {},
     "output_type": "execute_result"
    }
   ],
   "source": [
    "podcast_ep.head(2)"
   ]
  },
  {
   "cell_type": "markdown",
   "metadata": {},
   "source": [
    "## Merge podcast_reviews datasets"
   ]
  },
  {
   "cell_type": "code",
   "execution_count": 14,
   "metadata": {},
   "outputs": [],
   "source": [
    "with open('../data/json/podcast_reviews.json') as file:\n",
    "        podcast_1 = json.load(file)"
   ]
  },
  {
   "cell_type": "code",
   "execution_count": 15,
   "metadata": {},
   "outputs": [],
   "source": [
    "with open('../data/json/podcast_reviews_add.json') as file:\n",
    "        podcast_2 = json.load(file)"
   ]
  },
  {
   "cell_type": "code",
   "execution_count": 16,
   "metadata": {},
   "outputs": [
    {
     "name": "stdout",
     "output_type": "stream",
     "text": [
      "(4460, 2)\n",
      "(63, 2)\n"
     ]
    }
   ],
   "source": [
    "df1 = pd.DataFrame(podcast_1)\n",
    "df2 = pd.DataFrame(podcast_2)\n",
    "print(df1.shape)\n",
    "print(df2.shape)"
   ]
  },
  {
   "cell_type": "code",
   "execution_count": 17,
   "metadata": {},
   "outputs": [
    {
     "name": "stdout",
     "output_type": "stream",
     "text": [
      "(4397, 2)\n"
     ]
    }
   ],
   "source": [
    "df1.drop(df1[df1.reviews == \"\"].index, inplace=True)\n",
    "print(df1.shape)"
   ]
  },
  {
   "cell_type": "code",
   "execution_count": 18,
   "metadata": {},
   "outputs": [
    {
     "name": "stdout",
     "output_type": "stream",
     "text": [
      "(4460, 2)\n"
     ]
    }
   ],
   "source": [
    "podcast_reviews = df1.append(df2, ignore_index=True, sort=False)\n",
    "print(podcast_reviews.shape)"
   ]
  },
  {
   "cell_type": "code",
   "execution_count": 19,
   "metadata": {},
   "outputs": [
    {
     "data": {
      "text/html": [
       "<div>\n",
       "<style scoped>\n",
       "    .dataframe tbody tr th:only-of-type {\n",
       "        vertical-align: middle;\n",
       "    }\n",
       "\n",
       "    .dataframe tbody tr th {\n",
       "        vertical-align: top;\n",
       "    }\n",
       "\n",
       "    .dataframe thead th {\n",
       "        text-align: right;\n",
       "    }\n",
       "</style>\n",
       "<table border=\"1\" class=\"dataframe\">\n",
       "  <thead>\n",
       "    <tr style=\"text-align: right;\">\n",
       "      <th></th>\n",
       "      <th>title</th>\n",
       "      <th>reviews</th>\n",
       "    </tr>\n",
       "  </thead>\n",
       "  <tbody>\n",
       "    <tr>\n",
       "      <th>0</th>\n",
       "      <td>Green Eggs and Dan</td>\n",
       "      <td>Dan is a fantastic host that draws out answer...</td>\n",
       "    </tr>\n",
       "    <tr>\n",
       "      <th>1</th>\n",
       "      <td>Audio Poem of the Day</td>\n",
       "      <td>Thank you for the poems. test What we need no...</td>\n",
       "    </tr>\n",
       "  </tbody>\n",
       "</table>\n",
       "</div>"
      ],
      "text/plain": [
       "                   title                                            reviews\n",
       "0     Green Eggs and Dan   Dan is a fantastic host that draws out answer...\n",
       "1  Audio Poem of the Day   Thank you for the poems. test What we need no..."
      ]
     },
     "execution_count": 19,
     "metadata": {},
     "output_type": "execute_result"
    }
   ],
   "source": [
    "podcast_reviews.head(2)"
   ]
  },
  {
   "cell_type": "markdown",
   "metadata": {},
   "source": [
    "## Clean podcast_subs dataset"
   ]
  },
  {
   "cell_type": "code",
   "execution_count": 20,
   "metadata": {},
   "outputs": [],
   "source": [
    "with open('../data/json/podcast_subs.json') as file:\n",
    "        podcast_subs = pd.DataFrame(json.load(file))"
   ]
  },
  {
   "cell_type": "code",
   "execution_count": 21,
   "metadata": {},
   "outputs": [],
   "source": [
    "titles = list(podcast_subs.title)"
   ]
  },
  {
   "cell_type": "code",
   "execution_count": 22,
   "metadata": {},
   "outputs": [],
   "source": [
    "for index, row in podcast_subs.iterrows():\n",
    "    new = []\n",
    "    for i in row.subs:\n",
    "        if i in titles:\n",
    "            new.append(i)\n",
    "    podcast_subs.at[index, 'subs'] = new"
   ]
  },
  {
   "cell_type": "code",
   "execution_count": 23,
   "metadata": {},
   "outputs": [
    {
     "name": "stdout",
     "output_type": "stream",
     "text": [
      "(4460, 2)\n"
     ]
    }
   ],
   "source": [
    "print(podcast_subs.shape)"
   ]
  },
  {
   "cell_type": "code",
   "execution_count": 24,
   "metadata": {},
   "outputs": [
    {
     "data": {
      "text/html": [
       "<div>\n",
       "<style scoped>\n",
       "    .dataframe tbody tr th:only-of-type {\n",
       "        vertical-align: middle;\n",
       "    }\n",
       "\n",
       "    .dataframe tbody tr th {\n",
       "        vertical-align: top;\n",
       "    }\n",
       "\n",
       "    .dataframe thead th {\n",
       "        text-align: right;\n",
       "    }\n",
       "</style>\n",
       "<table border=\"1\" class=\"dataframe\">\n",
       "  <thead>\n",
       "    <tr style=\"text-align: right;\">\n",
       "      <th></th>\n",
       "      <th>title</th>\n",
       "      <th>subs</th>\n",
       "    </tr>\n",
       "  </thead>\n",
       "  <tbody>\n",
       "    <tr>\n",
       "      <th>0</th>\n",
       "      <td>Green Eggs and Dan</td>\n",
       "      <td>[Point of Origin, Cal's Week in Review]</td>\n",
       "    </tr>\n",
       "    <tr>\n",
       "      <th>1</th>\n",
       "      <td>Audio Poem of the Day</td>\n",
       "      <td>[The New Yorker: Poetry, The New Yorker: The W...</td>\n",
       "    </tr>\n",
       "  </tbody>\n",
       "</table>\n",
       "</div>"
      ],
      "text/plain": [
       "                   title                                               subs\n",
       "0     Green Eggs and Dan            [Point of Origin, Cal's Week in Review]\n",
       "1  Audio Poem of the Day  [The New Yorker: Poetry, The New Yorker: The W..."
      ]
     },
     "execution_count": 24,
     "metadata": {},
     "output_type": "execute_result"
    }
   ],
   "source": [
    "podcast_subs.head(2)"
   ]
  },
  {
   "cell_type": "markdown",
   "metadata": {},
   "source": [
    "## Merge all datasets"
   ]
  },
  {
   "cell_type": "code",
   "execution_count": 25,
   "metadata": {},
   "outputs": [],
   "source": [
    "df1 = pd.merge(podcast_info, podcast_ep, on=\"title\", how=\"inner\")"
   ]
  },
  {
   "cell_type": "code",
   "execution_count": 26,
   "metadata": {},
   "outputs": [],
   "source": [
    "df2 = pd.merge(df1, podcast_reviews, on=\"title\", how=\"inner\")"
   ]
  },
  {
   "cell_type": "code",
   "execution_count": 27,
   "metadata": {},
   "outputs": [],
   "source": [
    "df = pd.merge(df2, podcast_subs, on=\"title\", how=\"inner\")"
   ]
  },
  {
   "cell_type": "code",
   "execution_count": 28,
   "metadata": {},
   "outputs": [
    {
     "data": {
      "text/html": [
       "<div>\n",
       "<style scoped>\n",
       "    .dataframe tbody tr th:only-of-type {\n",
       "        vertical-align: middle;\n",
       "    }\n",
       "\n",
       "    .dataframe tbody tr th {\n",
       "        vertical-align: top;\n",
       "    }\n",
       "\n",
       "    .dataframe thead th {\n",
       "        text-align: right;\n",
       "    }\n",
       "</style>\n",
       "<table border=\"1\" class=\"dataframe\">\n",
       "  <thead>\n",
       "    <tr style=\"text-align: right;\">\n",
       "      <th></th>\n",
       "      <th>title</th>\n",
       "      <th>producer</th>\n",
       "      <th>genre</th>\n",
       "      <th>rating</th>\n",
       "      <th>num_ratings</th>\n",
       "      <th>num_episodes</th>\n",
       "      <th>description</th>\n",
       "      <th>link</th>\n",
       "      <th>episodes</th>\n",
       "      <th>reviews</th>\n",
       "      <th>subs</th>\n",
       "    </tr>\n",
       "  </thead>\n",
       "  <tbody>\n",
       "    <tr>\n",
       "      <th>0</th>\n",
       "      <td>Green Eggs and Dan</td>\n",
       "      <td>The Podglomerate</td>\n",
       "      <td>Arts</td>\n",
       "      <td>4.6</td>\n",
       "      <td>337</td>\n",
       "      <td>49</td>\n",
       "      <td>Taking a new look at “you are what you eat,” c...</td>\n",
       "      <td>https://podcasts.apple.com/us/podcast/green-eg...</td>\n",
       "      <td>Today, Dan is joined by his Cobra Kai co-star,...</td>\n",
       "      <td>Dan is a fantastic host that draws out answer...</td>\n",
       "      <td>[Point of Origin, Cal's Week in Review]</td>\n",
       "    </tr>\n",
       "    <tr>\n",
       "      <th>1</th>\n",
       "      <td>Audio Poem of the Day</td>\n",
       "      <td>Poetry Foundation</td>\n",
       "      <td>Arts</td>\n",
       "      <td>4.4</td>\n",
       "      <td>237</td>\n",
       "      <td>100</td>\n",
       "      <td>Audio recordings of classic and contemporary p...</td>\n",
       "      <td>https://podcasts.apple.com/us/podcast/audio-po...</td>\n",
       "      <td>By Maureen ThorsonBy Danez SmithBy Catherine C...</td>\n",
       "      <td>Thank you for the poems. test What we need no...</td>\n",
       "      <td>[The New Yorker: Poetry, The New Yorker: The W...</td>\n",
       "    </tr>\n",
       "  </tbody>\n",
       "</table>\n",
       "</div>"
      ],
      "text/plain": [
       "                   title           producer genre  rating  num_ratings  \\\n",
       "0     Green Eggs and Dan   The Podglomerate  Arts     4.6          337   \n",
       "1  Audio Poem of the Day  Poetry Foundation  Arts     4.4          237   \n",
       "\n",
       "   num_episodes                                        description  \\\n",
       "0            49  Taking a new look at “you are what you eat,” c...   \n",
       "1           100  Audio recordings of classic and contemporary p...   \n",
       "\n",
       "                                                link  \\\n",
       "0  https://podcasts.apple.com/us/podcast/green-eg...   \n",
       "1  https://podcasts.apple.com/us/podcast/audio-po...   \n",
       "\n",
       "                                            episodes  \\\n",
       "0  Today, Dan is joined by his Cobra Kai co-star,...   \n",
       "1  By Maureen ThorsonBy Danez SmithBy Catherine C...   \n",
       "\n",
       "                                             reviews  \\\n",
       "0   Dan is a fantastic host that draws out answer...   \n",
       "1   Thank you for the poems. test What we need no...   \n",
       "\n",
       "                                                subs  \n",
       "0            [Point of Origin, Cal's Week in Review]  \n",
       "1  [The New Yorker: Poetry, The New Yorker: The W...  "
      ]
     },
     "execution_count": 28,
     "metadata": {},
     "output_type": "execute_result"
    }
   ],
   "source": [
    "df.head(2)"
   ]
  },
  {
   "cell_type": "code",
   "execution_count": 30,
   "metadata": {},
   "outputs": [
    {
     "data": {
      "text/plain": [
       "(4470, 11)"
      ]
     },
     "execution_count": 30,
     "metadata": {},
     "output_type": "execute_result"
    }
   ],
   "source": [
    "df.shape"
   ]
  },
  {
   "cell_type": "markdown",
   "metadata": {},
   "source": [
    "## Duplicates"
   ]
  },
  {
   "cell_type": "code",
   "execution_count": 39,
   "metadata": {},
   "outputs": [
    {
     "data": {
      "text/html": [
       "<div>\n",
       "<style scoped>\n",
       "    .dataframe tbody tr th:only-of-type {\n",
       "        vertical-align: middle;\n",
       "    }\n",
       "\n",
       "    .dataframe tbody tr th {\n",
       "        vertical-align: top;\n",
       "    }\n",
       "\n",
       "    .dataframe thead th {\n",
       "        text-align: right;\n",
       "    }\n",
       "</style>\n",
       "<table border=\"1\" class=\"dataframe\">\n",
       "  <thead>\n",
       "    <tr style=\"text-align: right;\">\n",
       "      <th></th>\n",
       "      <th>title</th>\n",
       "      <th>producer</th>\n",
       "      <th>genre</th>\n",
       "      <th>rating</th>\n",
       "      <th>num_ratings</th>\n",
       "      <th>num_episodes</th>\n",
       "      <th>description</th>\n",
       "      <th>link</th>\n",
       "      <th>episodes</th>\n",
       "      <th>reviews</th>\n",
       "      <th>subs</th>\n",
       "    </tr>\n",
       "  </thead>\n",
       "  <tbody>\n",
       "    <tr>\n",
       "      <th>49</th>\n",
       "      <td>The Jeselnik &amp; Rosenthal Vanity Project</td>\n",
       "      <td>All Things Comedy</td>\n",
       "      <td>Arts</td>\n",
       "      <td>4.9</td>\n",
       "      <td>3700</td>\n",
       "      <td>111</td>\n",
       "      <td>Anthony Jeselnik is a world famous comedian, G...</td>\n",
       "      <td>https://podcasts.apple.com/us/podcast/the-jese...</td>\n",
       "      <td>A fan causes a horrific tour de France crash, ...</td>\n",
       "      <td>Because I don’t think Greggs marriage could h...</td>\n",
       "      <td>[The HoneyDew with Ryan Sickler, The Bill Bert...</td>\n",
       "    </tr>\n",
       "    <tr>\n",
       "      <th>50</th>\n",
       "      <td>The Jeselnik &amp; Rosenthal Vanity Project</td>\n",
       "      <td>All Things Comedy</td>\n",
       "      <td>Arts</td>\n",
       "      <td>4.7</td>\n",
       "      <td>152</td>\n",
       "      <td>111</td>\n",
       "      <td>Anthony Jeselnik is a world famous comedian, G...</td>\n",
       "      <td>https://podcasts.apple.com/us/podcast/the-jese...</td>\n",
       "      <td>A fan causes a horrific tour de France crash, ...</td>\n",
       "      <td>Because I don’t think Greggs marriage could h...</td>\n",
       "      <td>[The HoneyDew with Ryan Sickler, The Bill Bert...</td>\n",
       "    </tr>\n",
       "    <tr>\n",
       "      <th>511</th>\n",
       "      <td>SmartLess</td>\n",
       "      <td>Jason Bateman, Sean Hayes, Will Arnett</td>\n",
       "      <td>Comedy</td>\n",
       "      <td>4.7</td>\n",
       "      <td>23700</td>\n",
       "      <td>52</td>\n",
       "      <td>\"SmartLess\" with Jason Bateman, Sean Hayes, &amp; ...</td>\n",
       "      <td>https://podcasts.apple.com/us/podcast/smartles...</td>\n",
       "      <td>We've got electrolyte-specialist José Andrés o...</td>\n",
       "      <td>You brought out the funny in José Andrés. Ple...</td>\n",
       "      <td>[Mike Birbiglia's Working It Out, HBO's I'll B...</td>\n",
       "    </tr>\n",
       "    <tr>\n",
       "      <th>512</th>\n",
       "      <td>SmartLess</td>\n",
       "      <td>Jason Bateman, Sean Hayes, Will Arnett</td>\n",
       "      <td>Comedy</td>\n",
       "      <td>5.0</td>\n",
       "      <td>2</td>\n",
       "      <td>52</td>\n",
       "      <td>\"SmartLess\" with Jason Bateman, Sean Hayes, &amp; ...</td>\n",
       "      <td>https://podcasts.apple.com/us/podcast/smartles...</td>\n",
       "      <td>We've got electrolyte-specialist José Andrés o...</td>\n",
       "      <td>You brought out the funny in José Andrés. Ple...</td>\n",
       "      <td>[Mike Birbiglia's Working It Out, HBO's I'll B...</td>\n",
       "    </tr>\n",
       "    <tr>\n",
       "      <th>1403</th>\n",
       "      <td>Radio Headspace</td>\n",
       "      <td>Headspace Studios</td>\n",
       "      <td>Health &amp; Fitness</td>\n",
       "      <td>5.0</td>\n",
       "      <td>1</td>\n",
       "      <td>290</td>\n",
       "      <td>Join us every weekday morning to take a few mo...</td>\n",
       "      <td>https://podcasts.apple.com/us/podcast/radio-he...</td>\n",
       "      <td>Children throw tantrums and we call them “naug...</td>\n",
       "      <td>I have not received a Headspace podcast since...</td>\n",
       "      <td>[The Last Archive, Netflix Is A Daily Joke]</td>\n",
       "    </tr>\n",
       "    <tr>\n",
       "      <th>1404</th>\n",
       "      <td>Radio Headspace</td>\n",
       "      <td>Headspace Studios</td>\n",
       "      <td>Health &amp; Fitness</td>\n",
       "      <td>4.6</td>\n",
       "      <td>1500</td>\n",
       "      <td>290</td>\n",
       "      <td>Join us every weekday morning to take a few mo...</td>\n",
       "      <td>https://podcasts.apple.com/us/podcast/radio-he...</td>\n",
       "      <td>Children throw tantrums and we call them “naug...</td>\n",
       "      <td>I have not received a Headspace podcast since...</td>\n",
       "      <td>[The Last Archive, Netflix Is A Daily Joke]</td>\n",
       "    </tr>\n",
       "    <tr>\n",
       "      <th>1718</th>\n",
       "      <td>Blindspot</td>\n",
       "      <td>The HISTORY® Channel and WNYC Studios</td>\n",
       "      <td>History</td>\n",
       "      <td>4.1</td>\n",
       "      <td>293</td>\n",
       "      <td>16</td>\n",
       "      <td>On May 31, 1921, Tulsa’s Greenwood District wa...</td>\n",
       "      <td>https://podcasts.apple.com/us/podcast/blindspo...</td>\n",
       "      <td>This episode contains descriptions of graphic ...</td>\n",
       "      <td>Jim O’Grady’s statement in episode 5 that Ram...</td>\n",
       "      <td>[]</td>\n",
       "    </tr>\n",
       "    <tr>\n",
       "      <th>1719</th>\n",
       "      <td>Blindspot</td>\n",
       "      <td>HISTORY</td>\n",
       "      <td>History</td>\n",
       "      <td>4.5</td>\n",
       "      <td>1300</td>\n",
       "      <td>16</td>\n",
       "      <td>On May 31, 1921, Tulsa’s Greenwood District wa...</td>\n",
       "      <td>https://podcasts.apple.com/us/podcast/blindspo...</td>\n",
       "      <td>This episode contains descriptions of graphic ...</td>\n",
       "      <td>Jim O’Grady’s statement in episode 5 that Ram...</td>\n",
       "      <td>[]</td>\n",
       "    </tr>\n",
       "    <tr>\n",
       "      <th>2123</th>\n",
       "      <td>Critical Role</td>\n",
       "      <td>Critical Role</td>\n",
       "      <td>Leisure</td>\n",
       "      <td>4.9</td>\n",
       "      <td>7700</td>\n",
       "      <td>238</td>\n",
       "      <td>Welcome to Critical Role, where a bunch of ner...</td>\n",
       "      <td>https://podcasts.apple.com/us/podcast/critical...</td>\n",
       "      <td>Five burgeoning adventurers explore the Upper ...</td>\n",
       "      <td>This is a fantastic series.  Matt is an amazi...</td>\n",
       "      <td>[Dungeons and Daddies, Not Another D&amp;D Podcast...</td>\n",
       "    </tr>\n",
       "    <tr>\n",
       "      <th>2124</th>\n",
       "      <td>Critical Role</td>\n",
       "      <td>Nerdist Industries</td>\n",
       "      <td>Leisure</td>\n",
       "      <td>4.8</td>\n",
       "      <td>962</td>\n",
       "      <td>206</td>\n",
       "      <td>Voice actor Matthew Mercer leads a group of fe...</td>\n",
       "      <td>https://podcasts.apple.com/us/podcast/critical...</td>\n",
       "      <td>Five burgeoning adventurers explore the Upper ...</td>\n",
       "      <td>This is a fantastic series.  Matt is an amazi...</td>\n",
       "      <td>[Dungeons and Daddies, Not Another D&amp;D Podcast...</td>\n",
       "    </tr>\n",
       "    <tr>\n",
       "      <th>2198</th>\n",
       "      <td>Trash Taste Podcast</td>\n",
       "      <td>Trash Taste Podcast</td>\n",
       "      <td>Leisure</td>\n",
       "      <td>5.0</td>\n",
       "      <td>5</td>\n",
       "      <td>1</td>\n",
       "      <td>A podcast with attitude that hits different.Tr...</td>\n",
       "      <td>https://podcasts.apple.com/us/podcast/trash-ta...</td>\n",
       "      <td>Get 20% off your own authentic Japanese snack ...</td>\n",
       "      <td>This podcast is what sold me on podcasts. You...</td>\n",
       "      <td>[OfflineTV Podcast, Anime Addicts Anonymous, G...</td>\n",
       "    </tr>\n",
       "    <tr>\n",
       "      <th>2199</th>\n",
       "      <td>Trash Taste Podcast</td>\n",
       "      <td>Joey (TheAnimeMan), Garnt (Gigguk), and Connor...</td>\n",
       "      <td>Leisure</td>\n",
       "      <td>4.9</td>\n",
       "      <td>1800</td>\n",
       "      <td>55</td>\n",
       "      <td>Trash Taste is a highly anticipated anime podc...</td>\n",
       "      <td>https://podcasts.apple.com/us/podcast/trash-ta...</td>\n",
       "      <td>Get 20% off your own authentic Japanese snack ...</td>\n",
       "      <td>This podcast is what sold me on podcasts. You...</td>\n",
       "      <td>[OfflineTV Podcast, Anime Addicts Anonymous, G...</td>\n",
       "    </tr>\n",
       "    <tr>\n",
       "      <th>2371</th>\n",
       "      <td>Song of the Day</td>\n",
       "      <td>MPR</td>\n",
       "      <td>Music</td>\n",
       "      <td>4.6</td>\n",
       "      <td>512</td>\n",
       "      <td>7</td>\n",
       "      <td>Music lovers from 89.3 The Current comb throug...</td>\n",
       "      <td>https://podcasts.apple.com/us/podcast/song-of-...</td>\n",
       "      <td>Darkwave duo Cold Cave deliver their distincti...</td>\n",
       "      <td>Twitter.com I really enjoy waking up to a new...</td>\n",
       "      <td>[Live In Concert from NPR's All Songs Consider...</td>\n",
       "    </tr>\n",
       "    <tr>\n",
       "      <th>2372</th>\n",
       "      <td>Song of the Day</td>\n",
       "      <td>KEXP</td>\n",
       "      <td>Music</td>\n",
       "      <td>4.7</td>\n",
       "      <td>941</td>\n",
       "      <td>1589</td>\n",
       "      <td>KEXP’s Song of the Day podcast features stand-...</td>\n",
       "      <td>https://podcasts.apple.com/us/podcast/song-of-...</td>\n",
       "      <td>Darkwave duo Cold Cave deliver their distincti...</td>\n",
       "      <td>Twitter.com I really enjoy waking up to a new...</td>\n",
       "      <td>[Live In Concert from NPR's All Songs Consider...</td>\n",
       "    </tr>\n",
       "    <tr>\n",
       "      <th>2688</th>\n",
       "      <td>Science Vs</td>\n",
       "      <td>ABC Podcasts</td>\n",
       "      <td>Science</td>\n",
       "      <td>4.3</td>\n",
       "      <td>484</td>\n",
       "      <td>20</td>\n",
       "      <td>Science journalist Wendy Zukerman dissects the...</td>\n",
       "      <td>https://podcasts.apple.com/us/podcast/science-...</td>\n",
       "      <td>There are soooo many options for what to feed ...</td>\n",
       "      <td>I’ve loved this show from the beginning, but ...</td>\n",
       "      <td>[Reply All, Science Vs, 99% Invisible, Every L...</td>\n",
       "    </tr>\n",
       "    <tr>\n",
       "      <th>2689</th>\n",
       "      <td>Science Vs</td>\n",
       "      <td>Gimlet Media</td>\n",
       "      <td>Science</td>\n",
       "      <td>4.5</td>\n",
       "      <td>9200</td>\n",
       "      <td>155</td>\n",
       "      <td>There are a lot of fads, blogs and strong opin...</td>\n",
       "      <td>https://podcasts.apple.com/us/podcast/science-...</td>\n",
       "      <td>There are soooo many options for what to feed ...</td>\n",
       "      <td>I’ve loved this show from the beginning, but ...</td>\n",
       "      <td>[Reply All, Science Vs, 99% Invisible, Every L...</td>\n",
       "    </tr>\n",
       "    <tr>\n",
       "      <th>3627</th>\n",
       "      <td>Lex Fridman Podcast</td>\n",
       "      <td>Lex Fridman</td>\n",
       "      <td>Technology</td>\n",
       "      <td>4.9</td>\n",
       "      <td>5200</td>\n",
       "      <td>200</td>\n",
       "      <td>Conversations about science, technology, histo...</td>\n",
       "      <td>https://podcasts.apple.com/us/podcast/lex-frid...</td>\n",
       "      <td>Yeonmi Park is a North Korean defector, human ...</td>\n",
       "      <td>consistently exceptional conversations! I’m r...</td>\n",
       "      <td>[Sean Carroll's Mindscape: Science, Society, P...</td>\n",
       "    </tr>\n",
       "    <tr>\n",
       "      <th>3628</th>\n",
       "      <td>Lex Fridman Podcast</td>\n",
       "      <td>Lex Fridman</td>\n",
       "      <td>Technology</td>\n",
       "      <td>4.9</td>\n",
       "      <td>93</td>\n",
       "      <td>200</td>\n",
       "      <td>Conversations about science, technology, histo...</td>\n",
       "      <td>https://podcasts.apple.com/us/podcast/lex-frid...</td>\n",
       "      <td>Yeonmi Park is a North Korean defector, human ...</td>\n",
       "      <td>consistently exceptional conversations! I’m r...</td>\n",
       "      <td>[Sean Carroll's Mindscape: Science, Society, P...</td>\n",
       "    </tr>\n",
       "    <tr>\n",
       "      <th>4368</th>\n",
       "      <td>Elevation with Steven Furtick</td>\n",
       "      <td>Elevation Church</td>\n",
       "      <td>Religion &amp; Spirituality</td>\n",
       "      <td>4.8</td>\n",
       "      <td>12400</td>\n",
       "      <td>165</td>\n",
       "      <td>Welcome to the weekly podcast of Elevation Chu...</td>\n",
       "      <td>https://podcasts.apple.com/us/podcast/elevatio...</td>\n",
       "      <td>Our satisfaction can only be found in Him. In ...</td>\n",
       "      <td>This is an awesome church!! Your As dome grea...</td>\n",
       "      <td>[Transformation Church, Joyce Meyer Radio Podc...</td>\n",
       "    </tr>\n",
       "    <tr>\n",
       "      <th>4369</th>\n",
       "      <td>Elevation with Steven Furtick</td>\n",
       "      <td>Elevation Church</td>\n",
       "      <td>Religion &amp; Spirituality</td>\n",
       "      <td>4.8</td>\n",
       "      <td>1400</td>\n",
       "      <td>105</td>\n",
       "      <td>Welcome to the weekly podcast of Elevation Chu...</td>\n",
       "      <td>https://podcasts.apple.com/us/podcast/elevatio...</td>\n",
       "      <td>Our satisfaction can only be found in Him. In ...</td>\n",
       "      <td>This is an awesome church!! Your As dome grea...</td>\n",
       "      <td>[Transformation Church, Joyce Meyer Radio Podc...</td>\n",
       "    </tr>\n",
       "  </tbody>\n",
       "</table>\n",
       "</div>"
      ],
      "text/plain": [
       "                                        title  \\\n",
       "49    The Jeselnik & Rosenthal Vanity Project   \n",
       "50    The Jeselnik & Rosenthal Vanity Project   \n",
       "511                                 SmartLess   \n",
       "512                                 SmartLess   \n",
       "1403                          Radio Headspace   \n",
       "1404                          Radio Headspace   \n",
       "1718                                Blindspot   \n",
       "1719                                Blindspot   \n",
       "2123                            Critical Role   \n",
       "2124                            Critical Role   \n",
       "2198                      Trash Taste Podcast   \n",
       "2199                      Trash Taste Podcast   \n",
       "2371                          Song of the Day   \n",
       "2372                          Song of the Day   \n",
       "2688                               Science Vs   \n",
       "2689                               Science Vs   \n",
       "3627                      Lex Fridman Podcast   \n",
       "3628                      Lex Fridman Podcast   \n",
       "4368            Elevation with Steven Furtick   \n",
       "4369            Elevation with Steven Furtick   \n",
       "\n",
       "                                               producer  \\\n",
       "49                                    All Things Comedy   \n",
       "50                                    All Things Comedy   \n",
       "511              Jason Bateman, Sean Hayes, Will Arnett   \n",
       "512              Jason Bateman, Sean Hayes, Will Arnett   \n",
       "1403                                  Headspace Studios   \n",
       "1404                                  Headspace Studios   \n",
       "1718              The HISTORY® Channel and WNYC Studios   \n",
       "1719                                            HISTORY   \n",
       "2123                                      Critical Role   \n",
       "2124                                 Nerdist Industries   \n",
       "2198                                Trash Taste Podcast   \n",
       "2199  Joey (TheAnimeMan), Garnt (Gigguk), and Connor...   \n",
       "2371                                                MPR   \n",
       "2372                                               KEXP   \n",
       "2688                                       ABC Podcasts   \n",
       "2689                                       Gimlet Media   \n",
       "3627                                        Lex Fridman   \n",
       "3628                                        Lex Fridman   \n",
       "4368                                   Elevation Church   \n",
       "4369                                   Elevation Church   \n",
       "\n",
       "                        genre  rating  num_ratings  num_episodes  \\\n",
       "49                       Arts     4.9         3700           111   \n",
       "50                       Arts     4.7          152           111   \n",
       "511                    Comedy     4.7        23700            52   \n",
       "512                    Comedy     5.0            2            52   \n",
       "1403         Health & Fitness     5.0            1           290   \n",
       "1404         Health & Fitness     4.6         1500           290   \n",
       "1718                  History     4.1          293            16   \n",
       "1719                  History     4.5         1300            16   \n",
       "2123                  Leisure     4.9         7700           238   \n",
       "2124                  Leisure     4.8          962           206   \n",
       "2198                  Leisure     5.0            5             1   \n",
       "2199                  Leisure     4.9         1800            55   \n",
       "2371                    Music     4.6          512             7   \n",
       "2372                    Music     4.7          941          1589   \n",
       "2688                  Science     4.3          484            20   \n",
       "2689                  Science     4.5         9200           155   \n",
       "3627               Technology     4.9         5200           200   \n",
       "3628               Technology     4.9           93           200   \n",
       "4368  Religion & Spirituality     4.8        12400           165   \n",
       "4369  Religion & Spirituality     4.8         1400           105   \n",
       "\n",
       "                                            description  \\\n",
       "49    Anthony Jeselnik is a world famous comedian, G...   \n",
       "50    Anthony Jeselnik is a world famous comedian, G...   \n",
       "511   \"SmartLess\" with Jason Bateman, Sean Hayes, & ...   \n",
       "512   \"SmartLess\" with Jason Bateman, Sean Hayes, & ...   \n",
       "1403  Join us every weekday morning to take a few mo...   \n",
       "1404  Join us every weekday morning to take a few mo...   \n",
       "1718  On May 31, 1921, Tulsa’s Greenwood District wa...   \n",
       "1719  On May 31, 1921, Tulsa’s Greenwood District wa...   \n",
       "2123  Welcome to Critical Role, where a bunch of ner...   \n",
       "2124  Voice actor Matthew Mercer leads a group of fe...   \n",
       "2198  A podcast with attitude that hits different.Tr...   \n",
       "2199  Trash Taste is a highly anticipated anime podc...   \n",
       "2371  Music lovers from 89.3 The Current comb throug...   \n",
       "2372  KEXP’s Song of the Day podcast features stand-...   \n",
       "2688  Science journalist Wendy Zukerman dissects the...   \n",
       "2689  There are a lot of fads, blogs and strong opin...   \n",
       "3627  Conversations about science, technology, histo...   \n",
       "3628  Conversations about science, technology, histo...   \n",
       "4368  Welcome to the weekly podcast of Elevation Chu...   \n",
       "4369  Welcome to the weekly podcast of Elevation Chu...   \n",
       "\n",
       "                                                   link  \\\n",
       "49    https://podcasts.apple.com/us/podcast/the-jese...   \n",
       "50    https://podcasts.apple.com/us/podcast/the-jese...   \n",
       "511   https://podcasts.apple.com/us/podcast/smartles...   \n",
       "512   https://podcasts.apple.com/us/podcast/smartles...   \n",
       "1403  https://podcasts.apple.com/us/podcast/radio-he...   \n",
       "1404  https://podcasts.apple.com/us/podcast/radio-he...   \n",
       "1718  https://podcasts.apple.com/us/podcast/blindspo...   \n",
       "1719  https://podcasts.apple.com/us/podcast/blindspo...   \n",
       "2123  https://podcasts.apple.com/us/podcast/critical...   \n",
       "2124  https://podcasts.apple.com/us/podcast/critical...   \n",
       "2198  https://podcasts.apple.com/us/podcast/trash-ta...   \n",
       "2199  https://podcasts.apple.com/us/podcast/trash-ta...   \n",
       "2371  https://podcasts.apple.com/us/podcast/song-of-...   \n",
       "2372  https://podcasts.apple.com/us/podcast/song-of-...   \n",
       "2688  https://podcasts.apple.com/us/podcast/science-...   \n",
       "2689  https://podcasts.apple.com/us/podcast/science-...   \n",
       "3627  https://podcasts.apple.com/us/podcast/lex-frid...   \n",
       "3628  https://podcasts.apple.com/us/podcast/lex-frid...   \n",
       "4368  https://podcasts.apple.com/us/podcast/elevatio...   \n",
       "4369  https://podcasts.apple.com/us/podcast/elevatio...   \n",
       "\n",
       "                                               episodes  \\\n",
       "49    A fan causes a horrific tour de France crash, ...   \n",
       "50    A fan causes a horrific tour de France crash, ...   \n",
       "511   We've got electrolyte-specialist José Andrés o...   \n",
       "512   We've got electrolyte-specialist José Andrés o...   \n",
       "1403  Children throw tantrums and we call them “naug...   \n",
       "1404  Children throw tantrums and we call them “naug...   \n",
       "1718  This episode contains descriptions of graphic ...   \n",
       "1719  This episode contains descriptions of graphic ...   \n",
       "2123  Five burgeoning adventurers explore the Upper ...   \n",
       "2124  Five burgeoning adventurers explore the Upper ...   \n",
       "2198  Get 20% off your own authentic Japanese snack ...   \n",
       "2199  Get 20% off your own authentic Japanese snack ...   \n",
       "2371  Darkwave duo Cold Cave deliver their distincti...   \n",
       "2372  Darkwave duo Cold Cave deliver their distincti...   \n",
       "2688  There are soooo many options for what to feed ...   \n",
       "2689  There are soooo many options for what to feed ...   \n",
       "3627  Yeonmi Park is a North Korean defector, human ...   \n",
       "3628  Yeonmi Park is a North Korean defector, human ...   \n",
       "4368  Our satisfaction can only be found in Him. In ...   \n",
       "4369  Our satisfaction can only be found in Him. In ...   \n",
       "\n",
       "                                                reviews  \\\n",
       "49     Because I don’t think Greggs marriage could h...   \n",
       "50     Because I don’t think Greggs marriage could h...   \n",
       "511    You brought out the funny in José Andrés. Ple...   \n",
       "512    You brought out the funny in José Andrés. Ple...   \n",
       "1403   I have not received a Headspace podcast since...   \n",
       "1404   I have not received a Headspace podcast since...   \n",
       "1718   Jim O’Grady’s statement in episode 5 that Ram...   \n",
       "1719   Jim O’Grady’s statement in episode 5 that Ram...   \n",
       "2123   This is a fantastic series.  Matt is an amazi...   \n",
       "2124   This is a fantastic series.  Matt is an amazi...   \n",
       "2198   This podcast is what sold me on podcasts. You...   \n",
       "2199   This podcast is what sold me on podcasts. You...   \n",
       "2371   Twitter.com I really enjoy waking up to a new...   \n",
       "2372   Twitter.com I really enjoy waking up to a new...   \n",
       "2688   I’ve loved this show from the beginning, but ...   \n",
       "2689   I’ve loved this show from the beginning, but ...   \n",
       "3627   consistently exceptional conversations! I’m r...   \n",
       "3628   consistently exceptional conversations! I’m r...   \n",
       "4368   This is an awesome church!! Your As dome grea...   \n",
       "4369   This is an awesome church!! Your As dome grea...   \n",
       "\n",
       "                                                   subs  \n",
       "49    [The HoneyDew with Ryan Sickler, The Bill Bert...  \n",
       "50    [The HoneyDew with Ryan Sickler, The Bill Bert...  \n",
       "511   [Mike Birbiglia's Working It Out, HBO's I'll B...  \n",
       "512   [Mike Birbiglia's Working It Out, HBO's I'll B...  \n",
       "1403        [The Last Archive, Netflix Is A Daily Joke]  \n",
       "1404        [The Last Archive, Netflix Is A Daily Joke]  \n",
       "1718                                                 []  \n",
       "1719                                                 []  \n",
       "2123  [Dungeons and Daddies, Not Another D&D Podcast...  \n",
       "2124  [Dungeons and Daddies, Not Another D&D Podcast...  \n",
       "2198  [OfflineTV Podcast, Anime Addicts Anonymous, G...  \n",
       "2199  [OfflineTV Podcast, Anime Addicts Anonymous, G...  \n",
       "2371  [Live In Concert from NPR's All Songs Consider...  \n",
       "2372  [Live In Concert from NPR's All Songs Consider...  \n",
       "2688  [Reply All, Science Vs, 99% Invisible, Every L...  \n",
       "2689  [Reply All, Science Vs, 99% Invisible, Every L...  \n",
       "3627  [Sean Carroll's Mindscape: Science, Society, P...  \n",
       "3628  [Sean Carroll's Mindscape: Science, Society, P...  \n",
       "4368  [Transformation Church, Joyce Meyer Radio Podc...  \n",
       "4369  [Transformation Church, Joyce Meyer Radio Podc...  "
      ]
     },
     "execution_count": 39,
     "metadata": {},
     "output_type": "execute_result"
    }
   ],
   "source": [
    "df[df.duplicated(subset=['title'], keep=False)]"
   ]
  },
  {
   "cell_type": "code",
   "execution_count": 40,
   "metadata": {},
   "outputs": [],
   "source": [
    "df.drop([50, 512, 1403, 1718, 2124, 2198, 2371, 2688, 3628, 4369], inplace=True)"
   ]
  },
  {
   "cell_type": "code",
   "execution_count": 41,
   "metadata": {},
   "outputs": [
    {
     "data": {
      "text/html": [
       "<div>\n",
       "<style scoped>\n",
       "    .dataframe tbody tr th:only-of-type {\n",
       "        vertical-align: middle;\n",
       "    }\n",
       "\n",
       "    .dataframe tbody tr th {\n",
       "        vertical-align: top;\n",
       "    }\n",
       "\n",
       "    .dataframe thead th {\n",
       "        text-align: right;\n",
       "    }\n",
       "</style>\n",
       "<table border=\"1\" class=\"dataframe\">\n",
       "  <thead>\n",
       "    <tr style=\"text-align: right;\">\n",
       "      <th></th>\n",
       "      <th>title</th>\n",
       "      <th>producer</th>\n",
       "      <th>genre</th>\n",
       "      <th>rating</th>\n",
       "      <th>num_ratings</th>\n",
       "      <th>num_episodes</th>\n",
       "      <th>description</th>\n",
       "      <th>link</th>\n",
       "      <th>episodes</th>\n",
       "      <th>reviews</th>\n",
       "      <th>subs</th>\n",
       "    </tr>\n",
       "  </thead>\n",
       "  <tbody>\n",
       "  </tbody>\n",
       "</table>\n",
       "</div>"
      ],
      "text/plain": [
       "Empty DataFrame\n",
       "Columns: [title, producer, genre, rating, num_ratings, num_episodes, description, link, episodes, reviews, subs]\n",
       "Index: []"
      ]
     },
     "execution_count": 41,
     "metadata": {},
     "output_type": "execute_result"
    }
   ],
   "source": [
    "df[df.duplicated(subset=['title'], keep=False)]"
   ]
  },
  {
   "cell_type": "code",
   "execution_count": 42,
   "metadata": {},
   "outputs": [
    {
     "data": {
      "text/plain": [
       "(4460, 11)"
      ]
     },
     "execution_count": 42,
     "metadata": {},
     "output_type": "execute_result"
    }
   ],
   "source": [
    "df.shape"
   ]
  },
  {
   "cell_type": "markdown",
   "metadata": {},
   "source": [
    "## English titles"
   ]
  },
  {
   "cell_type": "code",
   "execution_count": 43,
   "metadata": {},
   "outputs": [],
   "source": [
    "titles = list(df['title'])\n",
    "titles = [title.replace(\" \", \"\") for title in titles]\n",
    "titles = [re.sub(r'[^\\w\\s]', '', title) for title in titles]\n",
    "is_english = [bool(re.match(\"^[A-Za-z0-9]*$\", title)) for title in titles]"
   ]
  },
  {
   "cell_type": "code",
   "execution_count": 44,
   "metadata": {},
   "outputs": [],
   "source": [
    "df = df.loc[is_english, :]"
   ]
  },
  {
   "cell_type": "code",
   "execution_count": 45,
   "metadata": {},
   "outputs": [
    {
     "data": {
      "text/plain": [
       "(4460, 11)"
      ]
     },
     "execution_count": 45,
     "metadata": {},
     "output_type": "execute_result"
    }
   ],
   "source": [
    "df.shape"
   ]
  },
  {
   "cell_type": "markdown",
   "metadata": {},
   "source": [
    "# Export to pickle"
   ]
  },
  {
   "cell_type": "code",
   "execution_count": 46,
   "metadata": {},
   "outputs": [],
   "source": [
    "df.reset_index(drop=True, inplace=True)"
   ]
  },
  {
   "cell_type": "code",
   "execution_count": 47,
   "metadata": {},
   "outputs": [],
   "source": [
    "df.to_pickle('../data/pickle/podcasts.pkl')"
   ]
  },
  {
   "cell_type": "code",
   "execution_count": null,
   "metadata": {},
   "outputs": [],
   "source": []
  }
 ],
 "metadata": {
  "kernelspec": {
   "display_name": "Python 3",
   "language": "python",
   "name": "python3"
  },
  "language_info": {
   "codemirror_mode": {
    "name": "ipython",
    "version": 3
   },
   "file_extension": ".py",
   "mimetype": "text/x-python",
   "name": "python",
   "nbconvert_exporter": "python",
   "pygments_lexer": "ipython3",
   "version": "3.8.3"
  }
 },
 "nbformat": 4,
 "nbformat_minor": 4
}
