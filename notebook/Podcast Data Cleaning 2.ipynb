{
 "cells": [
  {
   "cell_type": "code",
   "execution_count": 1,
   "metadata": {},
   "outputs": [],
   "source": [
    "import pandas as pd\n",
    "import re\n",
    "pd.set_option('display.max_colwidth', None)"
   ]
  },
  {
   "cell_type": "code",
   "execution_count": 2,
   "metadata": {},
   "outputs": [],
   "source": [
    "df = pd.read_pickle('../data/pickle/podcasts.pkl')"
   ]
  },
  {
   "cell_type": "code",
   "execution_count": 3,
   "metadata": {},
   "outputs": [],
   "source": [
    "def clean_description(desc):\n",
    "    desc = re.sub(r\"http\\S+\", \"\", desc)\n",
    "    desc = re.sub(r\"www\\S+\", \"\", desc)\n",
    "    desc = re.sub(r\"\\S+\\.com\\S+\", \"\", desc)\n",
    "    return desc"
   ]
  },
  {
   "cell_type": "code",
   "execution_count": 4,
   "metadata": {},
   "outputs": [],
   "source": [
    "df['description'] = df['description'].map(clean_description)\n",
    "df['episodes'] = df['episodes'].map(clean_description)"
   ]
  },
  {
   "cell_type": "code",
   "execution_count": 5,
   "metadata": {},
   "outputs": [],
   "source": [
    "def clean_reviews(review):\n",
    "    review = re.sub(r\"http\\S+\", \"\", review)\n",
    "    review = re.sub(r\"www\\S+\", \"\", review)\n",
    "    review = re.sub(r\"\\S+\\.com\\S+\", \"\", review)\n",
    "    review = review.replace('\\n',' ')\n",
    "    return review"
   ]
  },
  {
   "cell_type": "code",
   "execution_count": 6,
   "metadata": {},
   "outputs": [],
   "source": [
    "df['reviews'] = df['reviews'].map(clean_reviews)"
   ]
  },
  {
   "cell_type": "code",
   "execution_count": 7,
   "metadata": {
    "scrolled": false
   },
   "outputs": [
    {
     "data": {
      "text/html": [
       "<div>\n",
       "<style scoped>\n",
       "    .dataframe tbody tr th:only-of-type {\n",
       "        vertical-align: middle;\n",
       "    }\n",
       "\n",
       "    .dataframe tbody tr th {\n",
       "        vertical-align: top;\n",
       "    }\n",
       "\n",
       "    .dataframe thead th {\n",
       "        text-align: right;\n",
       "    }\n",
       "</style>\n",
       "<table border=\"1\" class=\"dataframe\">\n",
       "  <thead>\n",
       "    <tr style=\"text-align: right;\">\n",
       "      <th></th>\n",
       "      <th>title</th>\n",
       "      <th>producer</th>\n",
       "      <th>genre</th>\n",
       "      <th>rating</th>\n",
       "      <th>num_ratings</th>\n",
       "      <th>num_episodes</th>\n",
       "      <th>description</th>\n",
       "      <th>link</th>\n",
       "      <th>episodes</th>\n",
       "      <th>reviews</th>\n",
       "      <th>subs</th>\n",
       "    </tr>\n",
       "  </thead>\n",
       "  <tbody>\n",
       "    <tr>\n",
       "      <th>3394</th>\n",
       "      <td>Looking For LaToya</td>\n",
       "      <td>HBO | Tenderfoot | Raedio</td>\n",
       "      <td>TV &amp; Film</td>\n",
       "      <td>4.6</td>\n",
       "      <td>639</td>\n",
       "      <td>3</td>\n",
       "      <td>When 26 year-old LaToya Thompson went missing, Rose Cranberry hopped right on the case. For more information, visit  Looking for LaToya stars Terri J. Vaughn as Rose Cranberry, SZA as LaToya Thompson, Porsha Williams as Tasha, Ray J as Rufus, Kandi Burruss-Tucker as Glenda, and Carl Anthony Payne II as Bryan. It is a production of Raedio, Tenderfoot TV and HBO. Stream Insecure on HBO and HBO Max. The Black and Missing Foundation, a non profit organization, supports and provides access to resources for thousands of families searching for missing loved ones. Visit BAMFI.ORG to join the movement to #HelpUsFindUs.</td>\n",
       "      <td>https://podcasts.apple.com/us/podcast/looking-for-latoya/id1517664978</td>\n",
       "      <td>In the shocking reunion special with Rose Cranberry, LaToya reveals where she’s been all this time. For more information, visit  26 year-old LaToya Thompson went missing, Rose Cranberry hopped right on the case. In this exclusive podcast episode of Looking for LaToya, Rose conducts additional interviews with the people who knew LaToya best, talks to new witnesses, and uncovers additional eye-opening details about her disappearance. For more information, visit  26-year-old LaToya Thompson just missing or was she Murrrrrrdered? Rose Cranberry will not rest until she cracks the case. This is Looking for LaToya. Available now!</td>\n",
       "      <td>This is great! I can’t believe I’m just now coming by this! We NEED more! I am just seeing this and am dso sad there aren't more episodes. I love Insecure and Looking for Latoya, the show within the show. Issa and her team are very talented, and this mini-podcast is no exception. Where the rest of the episodes? It’s hella funny but we need more. One episode hilarious. I love it!  Bringing the absurd and silly but clever commentary to “true crime” podcasts is giving me life! LMFAOOO More of this kind of content! Love it!!! So funny and entertaining Dialogue of a transsexual So refreshing to hear something so good</td>\n",
       "      <td>[Dreams of Black Wall Street, HBO's I'll Be Gone In The Dark Podcast, Dirty Diana, Red Table Talk]</td>\n",
       "    </tr>\n",
       "    <tr>\n",
       "      <th>814</th>\n",
       "      <td>Irrational Basis Review</td>\n",
       "      <td>Leah Litman Melissa Murray Kate Shaw</td>\n",
       "      <td>Education</td>\n",
       "      <td>5.0</td>\n",
       "      <td>42</td>\n",
       "      <td>11</td>\n",
       "      <td>Irrational Basis Review: a constitutional law podcast that’s rationally related to a legitimate educational purpose. We'll provide deep dives about the constitutional law cases that are foundational to the first year law school curriculum.  For professors, law students, and anyone interested in law! Hosted by Leah Litman, Melissa Murray, and Kate Shaw. Produced by Melody Rowell.</td>\n",
       "      <td>https://podcasts.apple.com/us/podcast/irrational-basis-review/id1527349276</td>\n",
       "      <td>What happens when rational basis gets bitten by a radioactive animus spider?  It becomes super-powered and invalidates a range of discriminatory conduct.  Where did this toothier form of rational basis come from?  And which Justice made it his life’s work to wring every bit of goodness out of the whole concept of animus?Start your study of individual rights on the right foot(note) with this discussion of Con Law’s most famous footnote and the tiers of scrutiny that it spawned.We do a deep dive into unenumerated rights-- where do they come from? Why do they get such a bad rap?  How do we know when an unenumerated right is entitled to the most robust constitutional protections?A quick, handy guide to the state action doctrine.A deeper dive of Congress’s power to enact legislation pursuant to the Fourteenth Amendment.A rollicking ride covering the Court’s Commerce Clause jurisprudence from Gibbons v. Ogden, to the Gilded Age, to the New Deal, to the present.</td>\n",
       "      <td>Great passive studying for any law students. Easy to listen to while commuting, etc. The hosts are great and the information given is extremely useful! I wasn’t sure how I felt about this podcast after the first 2 episodes, but the 3rd episode really showcased why I love these hosts. The longer episode allowed for a more substantive discussion about the presidential power, and I enjoyed it very much. Plan to use it in my classes I teach government, and this podcast is a great summary of topics that come up in my classes. It’s accessible for anyone, though it’s aimed at law students. Highly recommended. Since I can’t take constitutional law with Professor Murray, this is the next best thing!! Great supplement for constitutional law class. Thank you!</td>\n",
       "      <td>[]</td>\n",
       "    </tr>\n",
       "  </tbody>\n",
       "</table>\n",
       "</div>"
      ],
      "text/plain": [
       "                        title                              producer  \\\n",
       "3394       Looking For LaToya             HBO | Tenderfoot | Raedio   \n",
       "814   Irrational Basis Review  Leah Litman Melissa Murray Kate Shaw   \n",
       "\n",
       "          genre  rating  num_ratings  num_episodes  \\\n",
       "3394  TV & Film     4.6          639             3   \n",
       "814   Education     5.0           42            11   \n",
       "\n",
       "                                                                                                                                                                                                                                                                                                                                                                                                                                                                                                                                                                                                                                    description  \\\n",
       "3394  When 26 year-old LaToya Thompson went missing, Rose Cranberry hopped right on the case. For more information, visit  Looking for LaToya stars Terri J. Vaughn as Rose Cranberry, SZA as LaToya Thompson, Porsha Williams as Tasha, Ray J as Rufus, Kandi Burruss-Tucker as Glenda, and Carl Anthony Payne II as Bryan. It is a production of Raedio, Tenderfoot TV and HBO. Stream Insecure on HBO and HBO Max. The Black and Missing Foundation, a non profit organization, supports and provides access to resources for thousands of families searching for missing loved ones. Visit BAMFI.ORG to join the movement to #HelpUsFindUs.   \n",
       "814                                                                                                                                                                                                                                               Irrational Basis Review: a constitutional law podcast that’s rationally related to a legitimate educational purpose. We'll provide deep dives about the constitutional law cases that are foundational to the first year law school curriculum.  For professors, law students, and anyone interested in law! Hosted by Leah Litman, Melissa Murray, and Kate Shaw. Produced by Melody Rowell.   \n",
       "\n",
       "                                                                            link  \\\n",
       "3394       https://podcasts.apple.com/us/podcast/looking-for-latoya/id1517664978   \n",
       "814   https://podcasts.apple.com/us/podcast/irrational-basis-review/id1527349276   \n",
       "\n",
       "                                                                                                                                                                                                                                                                                                                                                                                                                                                                                                                                                                                                                                                                                                                                                                                                                                                                                                                                                                                                       episodes  \\\n",
       "3394                                                                                                                                                                                                                                                                                                                                                     In the shocking reunion special with Rose Cranberry, LaToya reveals where she’s been all this time. For more information, visit  26 year-old LaToya Thompson went missing, Rose Cranberry hopped right on the case. In this exclusive podcast episode of Looking for LaToya, Rose conducts additional interviews with the people who knew LaToya best, talks to new witnesses, and uncovers additional eye-opening details about her disappearance. For more information, visit  26-year-old LaToya Thompson just missing or was she Murrrrrrdered? Rose Cranberry will not rest until she cracks the case. This is Looking for LaToya. Available now!   \n",
       "814   What happens when rational basis gets bitten by a radioactive animus spider?  It becomes super-powered and invalidates a range of discriminatory conduct.  Where did this toothier form of rational basis come from?  And which Justice made it his life’s work to wring every bit of goodness out of the whole concept of animus?Start your study of individual rights on the right foot(note) with this discussion of Con Law’s most famous footnote and the tiers of scrutiny that it spawned.We do a deep dive into unenumerated rights-- where do they come from? Why do they get such a bad rap?  How do we know when an unenumerated right is entitled to the most robust constitutional protections?A quick, handy guide to the state action doctrine.A deeper dive of Congress’s power to enact legislation pursuant to the Fourteenth Amendment.A rollicking ride covering the Court’s Commerce Clause jurisprudence from Gibbons v. Ogden, to the Gilded Age, to the New Deal, to the present.   \n",
       "\n",
       "                                                                                                                                                                                                                                                                                                                                                                                                                                                                                                                                                                                                                                                                                                                                                                                      reviews  \\\n",
       "3394                                                                                                                                              This is great! I can’t believe I’m just now coming by this! We NEED more! I am just seeing this and am dso sad there aren't more episodes. I love Insecure and Looking for Latoya, the show within the show. Issa and her team are very talented, and this mini-podcast is no exception. Where the rest of the episodes? It’s hella funny but we need more. One episode hilarious. I love it!  Bringing the absurd and silly but clever commentary to “true crime” podcasts is giving me life! LMFAOOO More of this kind of content! Love it!!! So funny and entertaining Dialogue of a transsexual So refreshing to hear something so good   \n",
       "814    Great passive studying for any law students. Easy to listen to while commuting, etc. The hosts are great and the information given is extremely useful! I wasn’t sure how I felt about this podcast after the first 2 episodes, but the 3rd episode really showcased why I love these hosts. The longer episode allowed for a more substantive discussion about the presidential power, and I enjoyed it very much. Plan to use it in my classes I teach government, and this podcast is a great summary of topics that come up in my classes. It’s accessible for anyone, though it’s aimed at law students. Highly recommended. Since I can’t take constitutional law with Professor Murray, this is the next best thing!! Great supplement for constitutional law class. Thank you!   \n",
       "\n",
       "                                                                                                    subs  \n",
       "3394  [Dreams of Black Wall Street, HBO's I'll Be Gone In The Dark Podcast, Dirty Diana, Red Table Talk]  \n",
       "814                                                                                                   []  "
      ]
     },
     "execution_count": 7,
     "metadata": {},
     "output_type": "execute_result"
    }
   ],
   "source": [
    "df.sample(2)"
   ]
  },
  {
   "cell_type": "code",
   "execution_count": 8,
   "metadata": {},
   "outputs": [],
   "source": [
    "df.to_pickle('../data/pickle/podcasts_clean.pkl')"
   ]
  },
  {
   "cell_type": "code",
   "execution_count": null,
   "metadata": {},
   "outputs": [],
   "source": []
  }
 ],
 "metadata": {
  "kernelspec": {
   "display_name": "Python 3",
   "language": "python",
   "name": "python3"
  },
  "language_info": {
   "codemirror_mode": {
    "name": "ipython",
    "version": 3
   },
   "file_extension": ".py",
   "mimetype": "text/x-python",
   "name": "python",
   "nbconvert_exporter": "python",
   "pygments_lexer": "ipython3",
   "version": "3.8.3"
  }
 },
 "nbformat": 4,
 "nbformat_minor": 4
}
