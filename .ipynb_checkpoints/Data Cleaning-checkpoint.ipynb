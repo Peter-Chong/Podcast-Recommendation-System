{
 "cells": [
  {
   "cell_type": "code",
   "execution_count": 1,
   "metadata": {},
   "outputs": [],
   "source": [
    "import json\n",
    "import numpy as np\n",
    "import pandas as pd\n",
    "import re"
   ]
  },
  {
   "cell_type": "code",
   "execution_count": 17,
   "metadata": {},
   "outputs": [],
   "source": [
    "with open('all_podcast_links.json') as json_file:\n",
    "        podcasts = json.load(json_file)"
   ]
  },
  {
   "cell_type": "code",
   "execution_count": 15,
   "metadata": {},
   "outputs": [],
   "source": [
    "podcasts_df = pd.DataFrame(podcasts)"
   ]
  },
  {
   "cell_type": "code",
   "execution_count": 13,
   "metadata": {},
   "outputs": [
    {
     "data": {
      "text/plain": [
       "43                            https://podcasts.apple.com/us/podcast/fated-mates-a-romance-novel-podcast/id1440190146\n",
       "47                                                   https://podcasts.apple.com/us/podcast/snap-judgment/id283657561\n",
       "95                                                   https://podcasts.apple.com/us/podcast/slate-culture/id279188498\n",
       "173                                                      https://podcasts.apple.com/us/podcast/nice-try/id1462324602\n",
       "246                                                      https://podcasts.apple.com/us/podcast/odd-lots/id1056200096\n",
       "411                                                https://podcasts.apple.com/us/podcast/dropping-bombs/id1260808808\n",
       "739                            https://podcasts.apple.com/us/podcast/experts-on-expert-with-dax-shepard/id1439283728\n",
       "836     https://podcasts.apple.com/us/podcast/harrisons-podclass-internal-medicine-cases-and-board-prep/id1453765092\n",
       "841                                              https://podcasts.apple.com/us/podcast/good-life-project/id647826736\n",
       "869                https://podcasts.apple.com/us/podcast/talk-to-me-in-korean-core-grammar-lessons-only/id1327769095\n",
       "977                                                     https://podcasts.apple.com/us/podcast/dark-dice/id1437360249\n",
       "1004                                                     https://podcasts.apple.com/us/podcast/tumanbay/id1278345733\n",
       "1049                                      https://podcasts.apple.com/us/podcast/the-leviathan-chronicles/id304481704\n",
       "1084                          https://podcasts.apple.com/us/podcast/nightlight-a-horror-fiction-podcast/id1399377895\n",
       "1085                                                     https://podcasts.apple.com/us/podcast/unwanted/id1553124251\n",
       "1105                                                   https://podcasts.apple.com/us/podcast/ghost-tape/id1536055234\n",
       "1123                                                   https://podcasts.apple.com/us/podcast/how-i-died/id1450764373\n",
       "1196                                    https://podcasts.apple.com/us/podcast/1001-stories-for-the-road/id1227478901\n",
       "1447                             https://podcasts.apple.com/us/podcast/the-intermittent-fasting-podcast/id1228755008\n",
       "1459                                      https://podcasts.apple.com/us/podcast/the-dr-john-delony-show/id1527609854\n",
       "Name: link, dtype: object"
      ]
     },
     "execution_count": 13,
     "metadata": {},
     "output_type": "execute_result"
    }
   ],
   "source": [
    "podcasts_df.link[podcasts_df.title == \"\"].head(20)"
   ]
  },
  {
   "cell_type": "code",
   "execution_count": 9,
   "metadata": {},
   "outputs": [],
   "source": [
    "pd.set_option('display.max_colwidth', None)"
   ]
  },
  {
   "cell_type": "code",
   "execution_count": null,
   "metadata": {},
   "outputs": [],
   "source": []
  }
 ],
 "metadata": {
  "kernelspec": {
   "display_name": "Python 3",
   "language": "python",
   "name": "python3"
  },
  "language_info": {
   "codemirror_mode": {
    "name": "ipython",
    "version": 3
   },
   "file_extension": ".py",
   "mimetype": "text/x-python",
   "name": "python",
   "nbconvert_exporter": "python",
   "pygments_lexer": "ipython3",
   "version": "3.8.3"
  }
 },
 "nbformat": 4,
 "nbformat_minor": 4
}
